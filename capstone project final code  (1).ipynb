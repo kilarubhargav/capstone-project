{
 "cells": [
  {
   "cell_type": "code",
   "execution_count": 106,
   "id": "c9796e1b",
   "metadata": {},
   "outputs": [],
   "source": [
    "#installing the required libraries \n",
    "import pandas as pd\n",
    "import numpy as np\n",
    "import matplotlib\n",
    "import matplotlib.pyplot as plt\n",
    "import seaborn as sns\n",
    "import folium\n",
    "import matplotlib.pyplot as plt\n",
    "import plotly.express as px\n"
   ]
  },
  {
   "cell_type": "code",
   "execution_count": 107,
   "id": "315ed9cc",
   "metadata": {},
   "outputs": [],
   "source": [
    "import warnings\n",
    "warnings.filterwarnings(\"ignore\")"
   ]
  },
  {
   "cell_type": "code",
   "execution_count": 108,
   "id": "9b64342d",
   "metadata": {},
   "outputs": [
    {
     "name": "stdout",
     "output_type": "stream",
     "text": [
      "Requirement already satisfied: folium in c:\\users\\dell\\anaconda3\\lib\\site-packages (0.12.1.post1)\n",
      "Requirement already satisfied: jinja2>=2.9 in c:\\users\\dell\\anaconda3\\lib\\site-packages (from folium) (3.0.0)\n",
      "Requirement already satisfied: branca>=0.3.0 in c:\\users\\dell\\anaconda3\\lib\\site-packages (from folium) (0.4.2)\n",
      "Requirement already satisfied: requests in c:\\users\\dell\\anaconda3\\lib\\site-packages (from folium) (2.25.1)\n",
      "Requirement already satisfied: numpy in c:\\users\\dell\\anaconda3\\lib\\site-packages (from folium) (1.20.2)\n",
      "Requirement already satisfied: MarkupSafe>=2.0.0rc2 in c:\\users\\dell\\anaconda3\\lib\\site-packages (from jinja2>=2.9->folium) (2.0.1)\n",
      "Requirement already satisfied: idna<3,>=2.5 in c:\\users\\dell\\anaconda3\\lib\\site-packages (from requests->folium) (2.10)\n",
      "Requirement already satisfied: urllib3<1.27,>=1.21.1 in c:\\users\\dell\\anaconda3\\lib\\site-packages (from requests->folium) (1.26.4)\n",
      "Requirement already satisfied: certifi>=2017.4.17 in c:\\users\\dell\\anaconda3\\lib\\site-packages (from requests->folium) (2021.10.8)\n",
      "Requirement already satisfied: chardet<5,>=3.0.2 in c:\\users\\dell\\anaconda3\\lib\\site-packages (from requests->folium) (4.0.0)\n",
      "Note: you may need to restart the kernel to use updated packages.\n"
     ]
    }
   ],
   "source": [
    "pip install folium"
   ]
  },
  {
   "cell_type": "code",
   "execution_count": 109,
   "id": "491fd3a8",
   "metadata": {},
   "outputs": [
    {
     "data": {
      "text/html": [
       "<div>\n",
       "<style scoped>\n",
       "    .dataframe tbody tr th:only-of-type {\n",
       "        vertical-align: middle;\n",
       "    }\n",
       "\n",
       "    .dataframe tbody tr th {\n",
       "        vertical-align: top;\n",
       "    }\n",
       "\n",
       "    .dataframe thead th {\n",
       "        text-align: right;\n",
       "    }\n",
       "</style>\n",
       "<table border=\"1\" class=\"dataframe\">\n",
       "  <thead>\n",
       "    <tr style=\"text-align: right;\">\n",
       "      <th></th>\n",
       "      <th>OBJECTID</th>\n",
       "      <th>Province/Territory</th>\n",
       "      <th>Project name</th>\n",
       "      <th>Total project capacity (MW)</th>\n",
       "      <th>Turbine identifier</th>\n",
       "      <th>Turbine number in project</th>\n",
       "      <th>Turbine rated capacity (kW)</th>\n",
       "      <th>Rotor diameter (m)</th>\n",
       "      <th>Hub height (m)</th>\n",
       "      <th>Manufacturer</th>\n",
       "      <th>Model</th>\n",
       "      <th>Commissioning date</th>\n",
       "      <th>Latitude</th>\n",
       "      <th>Longitude</th>\n",
       "      <th>Notes</th>\n",
       "    </tr>\n",
       "  </thead>\n",
       "  <tbody>\n",
       "    <tr>\n",
       "      <th>0</th>\n",
       "      <td>1</td>\n",
       "      <td>Alberta</td>\n",
       "      <td>Optimist Wind Energy</td>\n",
       "      <td>0.90</td>\n",
       "      <td>OWE1</td>\n",
       "      <td>1/2</td>\n",
       "      <td>150</td>\n",
       "      <td>23.0</td>\n",
       "      <td>30.0</td>\n",
       "      <td>Bonus</td>\n",
       "      <td>AN 150/30</td>\n",
       "      <td>1993</td>\n",
       "      <td>49.525354</td>\n",
       "      <td>-114.054796</td>\n",
       "      <td>NaN</td>\n",
       "    </tr>\n",
       "    <tr>\n",
       "      <th>1</th>\n",
       "      <td>2</td>\n",
       "      <td>Alberta</td>\n",
       "      <td>Castle River Wind Farm</td>\n",
       "      <td>44.00</td>\n",
       "      <td>CRW1</td>\n",
       "      <td>1/60</td>\n",
       "      <td>600</td>\n",
       "      <td>44.0</td>\n",
       "      <td>40.0</td>\n",
       "      <td>Vestas</td>\n",
       "      <td>V44/600</td>\n",
       "      <td>1997</td>\n",
       "      <td>49.512641</td>\n",
       "      <td>-114.035712</td>\n",
       "      <td>NaN</td>\n",
       "    </tr>\n",
       "    <tr>\n",
       "      <th>2</th>\n",
       "      <td>3</td>\n",
       "      <td>Alberta</td>\n",
       "      <td>Waterton Wind Turbines</td>\n",
       "      <td>3.78</td>\n",
       "      <td>WWT1</td>\n",
       "      <td>1/6</td>\n",
       "      <td>600</td>\n",
       "      <td>44.0</td>\n",
       "      <td>50.0</td>\n",
       "      <td>Vestas</td>\n",
       "      <td>V44/600</td>\n",
       "      <td>1998</td>\n",
       "      <td>49.233069</td>\n",
       "      <td>-113.654899</td>\n",
       "      <td>NaN</td>\n",
       "    </tr>\n",
       "    <tr>\n",
       "      <th>3</th>\n",
       "      <td>4</td>\n",
       "      <td>Alberta</td>\n",
       "      <td>Waterton Wind Turbines</td>\n",
       "      <td>3.78</td>\n",
       "      <td>WWT2</td>\n",
       "      <td>2/6</td>\n",
       "      <td>600</td>\n",
       "      <td>44.0</td>\n",
       "      <td>50.0</td>\n",
       "      <td>Vestas</td>\n",
       "      <td>V44/600</td>\n",
       "      <td>1998</td>\n",
       "      <td>49.233034</td>\n",
       "      <td>-113.630213</td>\n",
       "      <td>NaN</td>\n",
       "    </tr>\n",
       "    <tr>\n",
       "      <th>4</th>\n",
       "      <td>5</td>\n",
       "      <td>Alberta</td>\n",
       "      <td>Waterton Wind Turbines</td>\n",
       "      <td>3.78</td>\n",
       "      <td>WWT3</td>\n",
       "      <td>3/6</td>\n",
       "      <td>600</td>\n",
       "      <td>44.0</td>\n",
       "      <td>50.0</td>\n",
       "      <td>Vestas</td>\n",
       "      <td>V44/600</td>\n",
       "      <td>1998</td>\n",
       "      <td>49.217547</td>\n",
       "      <td>-113.680161</td>\n",
       "      <td>NaN</td>\n",
       "    </tr>\n",
       "  </tbody>\n",
       "</table>\n",
       "</div>"
      ],
      "text/plain": [
       "   OBJECTID Province/Territory            Project name  \\\n",
       "0         1            Alberta    Optimist Wind Energy   \n",
       "1         2            Alberta  Castle River Wind Farm   \n",
       "2         3            Alberta  Waterton Wind Turbines   \n",
       "3         4            Alberta  Waterton Wind Turbines   \n",
       "4         5            Alberta  Waterton Wind Turbines   \n",
       "\n",
       "   Total project capacity (MW) Turbine identifier Turbine number in project  \\\n",
       "0                         0.90               OWE1                       1/2   \n",
       "1                        44.00               CRW1                      1/60   \n",
       "2                         3.78               WWT1                       1/6   \n",
       "3                         3.78               WWT2                       2/6   \n",
       "4                         3.78               WWT3                       3/6   \n",
       "\n",
       "  Turbine rated capacity (kW)  Rotor diameter (m)  Hub height (m)  \\\n",
       "0                         150                23.0            30.0   \n",
       "1                         600                44.0            40.0   \n",
       "2                         600                44.0            50.0   \n",
       "3                         600                44.0            50.0   \n",
       "4                         600                44.0            50.0   \n",
       "\n",
       "  Manufacturer      Model Commissioning date   Latitude   Longitude Notes  \n",
       "0        Bonus  AN 150/30               1993  49.525354 -114.054796   NaN  \n",
       "1       Vestas    V44/600               1997  49.512641 -114.035712   NaN  \n",
       "2       Vestas    V44/600               1998  49.233069 -113.654899   NaN  \n",
       "3       Vestas    V44/600               1998  49.233034 -113.630213   NaN  \n",
       "4       Vestas    V44/600               1998  49.217547 -113.680161   NaN  "
      ]
     },
     "execution_count": 109,
     "metadata": {},
     "output_type": "execute_result"
    }
   ],
   "source": [
    "#importing the data set\n",
    "df = pd.read_excel(\"D:\\Wind_Turbine_Database_final_projet.xlsx\")\n",
    "df.head(5)\n"
   ]
  },
  {
   "cell_type": "code",
   "execution_count": 110,
   "id": "f88f9763",
   "metadata": {},
   "outputs": [
    {
     "data": {
      "text/plain": [
       "array(['OWE1', 'CRW1', 'WWT1', ..., 'CYP16', 'HAH1', 'HAH2'], dtype=object)"
      ]
     },
     "execution_count": 110,
     "metadata": {},
     "output_type": "execute_result"
    }
   ],
   "source": [
    "df['Turbine identifier'].unique()"
   ]
  },
  {
   "cell_type": "code",
   "execution_count": 111,
   "id": "fbd9aa24",
   "metadata": {},
   "outputs": [],
   "source": [
    "# splitting the turbine number in the project into number\n",
    "df[['turbine number', 'total turbines']] = df['Turbine number in project'].str.split('/', expand=True) "
   ]
  },
  {
   "cell_type": "code",
   "execution_count": 112,
   "id": "9e66d671",
   "metadata": {},
   "outputs": [
    {
     "data": {
      "text/html": [
       "<div>\n",
       "<style scoped>\n",
       "    .dataframe tbody tr th:only-of-type {\n",
       "        vertical-align: middle;\n",
       "    }\n",
       "\n",
       "    .dataframe tbody tr th {\n",
       "        vertical-align: top;\n",
       "    }\n",
       "\n",
       "    .dataframe thead th {\n",
       "        text-align: right;\n",
       "    }\n",
       "</style>\n",
       "<table border=\"1\" class=\"dataframe\">\n",
       "  <thead>\n",
       "    <tr style=\"text-align: right;\">\n",
       "      <th></th>\n",
       "      <th>OBJECTID</th>\n",
       "      <th>Province/Territory</th>\n",
       "      <th>Project name</th>\n",
       "      <th>Total project capacity (MW)</th>\n",
       "      <th>Turbine identifier</th>\n",
       "      <th>Turbine number in project</th>\n",
       "      <th>Turbine rated capacity (kW)</th>\n",
       "      <th>Rotor diameter (m)</th>\n",
       "      <th>Hub height (m)</th>\n",
       "      <th>Manufacturer</th>\n",
       "      <th>Model</th>\n",
       "      <th>Commissioning date</th>\n",
       "      <th>Latitude</th>\n",
       "      <th>Longitude</th>\n",
       "      <th>Notes</th>\n",
       "      <th>turbine number</th>\n",
       "      <th>total turbines</th>\n",
       "    </tr>\n",
       "  </thead>\n",
       "  <tbody>\n",
       "    <tr>\n",
       "      <th>0</th>\n",
       "      <td>1</td>\n",
       "      <td>Alberta</td>\n",
       "      <td>Optimist Wind Energy</td>\n",
       "      <td>0.90</td>\n",
       "      <td>OWE1</td>\n",
       "      <td>1/2</td>\n",
       "      <td>150</td>\n",
       "      <td>23.0</td>\n",
       "      <td>30.0</td>\n",
       "      <td>Bonus</td>\n",
       "      <td>AN 150/30</td>\n",
       "      <td>1993</td>\n",
       "      <td>49.525354</td>\n",
       "      <td>-114.054796</td>\n",
       "      <td>NaN</td>\n",
       "      <td>1</td>\n",
       "      <td>2</td>\n",
       "    </tr>\n",
       "    <tr>\n",
       "      <th>1</th>\n",
       "      <td>2</td>\n",
       "      <td>Alberta</td>\n",
       "      <td>Castle River Wind Farm</td>\n",
       "      <td>44.00</td>\n",
       "      <td>CRW1</td>\n",
       "      <td>1/60</td>\n",
       "      <td>600</td>\n",
       "      <td>44.0</td>\n",
       "      <td>40.0</td>\n",
       "      <td>Vestas</td>\n",
       "      <td>V44/600</td>\n",
       "      <td>1997</td>\n",
       "      <td>49.512641</td>\n",
       "      <td>-114.035712</td>\n",
       "      <td>NaN</td>\n",
       "      <td>1</td>\n",
       "      <td>60</td>\n",
       "    </tr>\n",
       "    <tr>\n",
       "      <th>2</th>\n",
       "      <td>3</td>\n",
       "      <td>Alberta</td>\n",
       "      <td>Waterton Wind Turbines</td>\n",
       "      <td>3.78</td>\n",
       "      <td>WWT1</td>\n",
       "      <td>1/6</td>\n",
       "      <td>600</td>\n",
       "      <td>44.0</td>\n",
       "      <td>50.0</td>\n",
       "      <td>Vestas</td>\n",
       "      <td>V44/600</td>\n",
       "      <td>1998</td>\n",
       "      <td>49.233069</td>\n",
       "      <td>-113.654899</td>\n",
       "      <td>NaN</td>\n",
       "      <td>1</td>\n",
       "      <td>6</td>\n",
       "    </tr>\n",
       "  </tbody>\n",
       "</table>\n",
       "</div>"
      ],
      "text/plain": [
       "   OBJECTID Province/Territory            Project name  \\\n",
       "0         1            Alberta    Optimist Wind Energy   \n",
       "1         2            Alberta  Castle River Wind Farm   \n",
       "2         3            Alberta  Waterton Wind Turbines   \n",
       "\n",
       "   Total project capacity (MW) Turbine identifier Turbine number in project  \\\n",
       "0                         0.90               OWE1                       1/2   \n",
       "1                        44.00               CRW1                      1/60   \n",
       "2                         3.78               WWT1                       1/6   \n",
       "\n",
       "  Turbine rated capacity (kW)  Rotor diameter (m)  Hub height (m)  \\\n",
       "0                         150                23.0            30.0   \n",
       "1                         600                44.0            40.0   \n",
       "2                         600                44.0            50.0   \n",
       "\n",
       "  Manufacturer      Model Commissioning date   Latitude   Longitude Notes  \\\n",
       "0        Bonus  AN 150/30               1993  49.525354 -114.054796   NaN   \n",
       "1       Vestas    V44/600               1997  49.512641 -114.035712   NaN   \n",
       "2       Vestas    V44/600               1998  49.233069 -113.654899   NaN   \n",
       "\n",
       "  turbine number total turbines  \n",
       "0              1              2  \n",
       "1              1             60  \n",
       "2              1              6  "
      ]
     },
     "execution_count": 112,
     "metadata": {},
     "output_type": "execute_result"
    }
   ],
   "source": [
    "df.head(3)"
   ]
  },
  {
   "cell_type": "code",
   "execution_count": 113,
   "id": "fb3ea9b4",
   "metadata": {},
   "outputs": [
    {
     "data": {
      "text/plain": [
       "OBJECTID                         int64\n",
       "Province/Territory              object\n",
       "Project name                    object\n",
       "Total project capacity (MW)    float64\n",
       "Turbine identifier              object\n",
       "Turbine number in project       object\n",
       "Turbine rated capacity (kW)     object\n",
       "Rotor diameter (m)             float64\n",
       "Hub height (m)                 float64\n",
       "Manufacturer                    object\n",
       "Model                           object\n",
       "Commissioning date              object\n",
       "Latitude                       float64\n",
       "Longitude                      float64\n",
       "Notes                           object\n",
       "turbine number                  object\n",
       "total turbines                  object\n",
       "dtype: object"
      ]
     },
     "execution_count": 113,
     "metadata": {},
     "output_type": "execute_result"
    }
   ],
   "source": [
    "df.dtypes"
   ]
  },
  {
   "cell_type": "code",
   "execution_count": 114,
   "id": "736294a7",
   "metadata": {},
   "outputs": [
    {
     "data": {
      "text/plain": [
       "array([1993, 1997, 1998, 2000, 2001, 2002, 2003, 2004, 2006, 2007, 2009,\n",
       "       2010, 2011, 2012, 2014, 2015, '2000/2001', '2006/2007', 2017, 2019,\n",
       "       '2005/2006/2012', 2008, 2018, 2005, 2013, 2016, '2004/2005', 1995,\n",
       "       '2002/2006', '2006/2008', 1999, '2011/2012', '2013/2014',\n",
       "       '2014/2015', '2001/2003'], dtype=object)"
      ]
     },
     "execution_count": 114,
     "metadata": {},
     "output_type": "execute_result"
    }
   ],
   "source": [
    "df['Commissioning date'].unique()"
   ]
  },
  {
   "cell_type": "code",
   "execution_count": 115,
   "id": "11c09e26",
   "metadata": {},
   "outputs": [
    {
     "data": {
      "text/plain": [
       "array([150, 600, 660, 1300, 1800, 3000, 1500, 750, 1600, 2300, 2310, 2000,\n",
       "       1700, 2750, 3200, 3750, 1650, 2350, 3300, 65, 100, 800, 1200, 900,\n",
       "       2100, 1990, 1400, 1680, 1900, 650, 2500, 2221, 2126, 1620, 2850,\n",
       "       '1815/1950', '1903/2126/2221', 2050, '1800-2300', 2648, 2483, 1824,\n",
       "       1903, 2030, 1880, 500, 2772, 2942, 3450, 2200], dtype=object)"
      ]
     },
     "execution_count": 115,
     "metadata": {},
     "output_type": "execute_result"
    }
   ],
   "source": [
    "df['Turbine rated capacity (kW)'].unique()"
   ]
  },
  {
   "cell_type": "code",
   "execution_count": 116,
   "id": "35931e6e",
   "metadata": {},
   "outputs": [
    {
     "name": "stdout",
     "output_type": "stream",
     "text": [
      "Help on method replace in module pandas.core.frame:\n",
      "\n",
      "replace(to_replace=None, value=None, inplace=False, limit=None, regex=False, method='pad') method of pandas.core.frame.DataFrame instance\n",
      "    Replace values given in `to_replace` with `value`.\n",
      "    \n",
      "    Values of the DataFrame are replaced with other values dynamically.\n",
      "    This differs from updating with ``.loc`` or ``.iloc``, which require\n",
      "    you to specify a location to update with some value.\n",
      "    \n",
      "    Parameters\n",
      "    ----------\n",
      "    to_replace : str, regex, list, dict, Series, int, float, or None\n",
      "        How to find the values that will be replaced.\n",
      "    \n",
      "        * numeric, str or regex:\n",
      "    \n",
      "            - numeric: numeric values equal to `to_replace` will be\n",
      "              replaced with `value`\n",
      "            - str: string exactly matching `to_replace` will be replaced\n",
      "              with `value`\n",
      "            - regex: regexs matching `to_replace` will be replaced with\n",
      "              `value`\n",
      "    \n",
      "        * list of str, regex, or numeric:\n",
      "    \n",
      "            - First, if `to_replace` and `value` are both lists, they\n",
      "              **must** be the same length.\n",
      "            - Second, if ``regex=True`` then all of the strings in **both**\n",
      "              lists will be interpreted as regexs otherwise they will match\n",
      "              directly. This doesn't matter much for `value` since there\n",
      "              are only a few possible substitution regexes you can use.\n",
      "            - str, regex and numeric rules apply as above.\n",
      "    \n",
      "        * dict:\n",
      "    \n",
      "            - Dicts can be used to specify different replacement values\n",
      "              for different existing values. For example,\n",
      "              ``{'a': 'b', 'y': 'z'}`` replaces the value 'a' with 'b' and\n",
      "              'y' with 'z'. To use a dict in this way the `value`\n",
      "              parameter should be `None`.\n",
      "            - For a DataFrame a dict can specify that different values\n",
      "              should be replaced in different columns. For example,\n",
      "              ``{'a': 1, 'b': 'z'}`` looks for the value 1 in column 'a'\n",
      "              and the value 'z' in column 'b' and replaces these values\n",
      "              with whatever is specified in `value`. The `value` parameter\n",
      "              should not be ``None`` in this case. You can treat this as a\n",
      "              special case of passing two lists except that you are\n",
      "              specifying the column to search in.\n",
      "            - For a DataFrame nested dictionaries, e.g.,\n",
      "              ``{'a': {'b': np.nan}}``, are read as follows: look in column\n",
      "              'a' for the value 'b' and replace it with NaN. The `value`\n",
      "              parameter should be ``None`` to use a nested dict in this\n",
      "              way. You can nest regular expressions as well. Note that\n",
      "              column names (the top-level dictionary keys in a nested\n",
      "              dictionary) **cannot** be regular expressions.\n",
      "    \n",
      "        * None:\n",
      "    \n",
      "            - This means that the `regex` argument must be a string,\n",
      "              compiled regular expression, or list, dict, ndarray or\n",
      "              Series of such elements. If `value` is also ``None`` then\n",
      "              this **must** be a nested dictionary or Series.\n",
      "    \n",
      "        See the examples section for examples of each of these.\n",
      "    value : scalar, dict, list, str, regex, default None\n",
      "        Value to replace any values matching `to_replace` with.\n",
      "        For a DataFrame a dict of values can be used to specify which\n",
      "        value to use for each column (columns not in the dict will not be\n",
      "        filled). Regular expressions, strings and lists or dicts of such\n",
      "        objects are also allowed.\n",
      "    inplace : bool, default False\n",
      "        If True, in place. Note: this will modify any\n",
      "        other views on this object (e.g. a column from a DataFrame).\n",
      "        Returns the caller if this is True.\n",
      "    limit : int or None, default None\n",
      "        Maximum size gap to forward or backward fill.\n",
      "    regex : bool or same types as `to_replace`, default False\n",
      "        Whether to interpret `to_replace` and/or `value` as regular\n",
      "        expressions. If this is ``True`` then `to_replace` *must* be a\n",
      "        string. Alternatively, this could be a regular expression or a\n",
      "        list, dict, or array of regular expressions in which case\n",
      "        `to_replace` must be ``None``.\n",
      "    method : {'pad', 'ffill', 'bfill', `None`}\n",
      "        The method to use when for replacement, when `to_replace` is a\n",
      "        scalar, list or tuple and `value` is ``None``.\n",
      "    \n",
      "    Returns\n",
      "    -------\n",
      "    DataFrame or None\n",
      "        Object after replacement or None if ``inplace=True``.\n",
      "    \n",
      "    Raises\n",
      "    ------\n",
      "    AssertionError\n",
      "        * If `regex` is not a ``bool`` and `to_replace` is not\n",
      "          ``None``.\n",
      "    \n",
      "    TypeError\n",
      "        * If `to_replace` is not a scalar, array-like, ``dict``, or ``None``\n",
      "        * If `to_replace` is a ``dict`` and `value` is not a ``list``,\n",
      "          ``dict``, ``ndarray``, or ``Series``\n",
      "        * If `to_replace` is ``None`` and `regex` is not compilable\n",
      "          into a regular expression or is a list, dict, ndarray, or\n",
      "          Series.\n",
      "        * When replacing multiple ``bool`` or ``datetime64`` objects and\n",
      "          the arguments to `to_replace` does not match the type of the\n",
      "          value being replaced\n",
      "    \n",
      "    ValueError\n",
      "        * If a ``list`` or an ``ndarray`` is passed to `to_replace` and\n",
      "          `value` but they are not the same length.\n",
      "    \n",
      "    See Also\n",
      "    --------\n",
      "    DataFrame.fillna : Fill NA values.\n",
      "    DataFrame.where : Replace values based on boolean condition.\n",
      "    Series.str.replace : Simple string replacement.\n",
      "    \n",
      "    Notes\n",
      "    -----\n",
      "    * Regex substitution is performed under the hood with ``re.sub``. The\n",
      "      rules for substitution for ``re.sub`` are the same.\n",
      "    * Regular expressions will only substitute on strings, meaning you\n",
      "      cannot provide, for example, a regular expression matching floating\n",
      "      point numbers and expect the columns in your frame that have a\n",
      "      numeric dtype to be matched. However, if those floating point\n",
      "      numbers *are* strings, then you can do this.\n",
      "    * This method has *a lot* of options. You are encouraged to experiment\n",
      "      and play with this method to gain intuition about how it works.\n",
      "    * When dict is used as the `to_replace` value, it is like\n",
      "      key(s) in the dict are the to_replace part and\n",
      "      value(s) in the dict are the value parameter.\n",
      "    \n",
      "    Examples\n",
      "    --------\n",
      "    \n",
      "    **Scalar `to_replace` and `value`**\n",
      "    \n",
      "    >>> s = pd.Series([0, 1, 2, 3, 4])\n",
      "    >>> s.replace(0, 5)\n",
      "    0    5\n",
      "    1    1\n",
      "    2    2\n",
      "    3    3\n",
      "    4    4\n",
      "    dtype: int64\n",
      "    \n",
      "    >>> df = pd.DataFrame({'A': [0, 1, 2, 3, 4],\n",
      "    ...                    'B': [5, 6, 7, 8, 9],\n",
      "    ...                    'C': ['a', 'b', 'c', 'd', 'e']})\n",
      "    >>> df.replace(0, 5)\n",
      "       A  B  C\n",
      "    0  5  5  a\n",
      "    1  1  6  b\n",
      "    2  2  7  c\n",
      "    3  3  8  d\n",
      "    4  4  9  e\n",
      "    \n",
      "    **List-like `to_replace`**\n",
      "    \n",
      "    >>> df.replace([0, 1, 2, 3], 4)\n",
      "       A  B  C\n",
      "    0  4  5  a\n",
      "    1  4  6  b\n",
      "    2  4  7  c\n",
      "    3  4  8  d\n",
      "    4  4  9  e\n",
      "    \n",
      "    >>> df.replace([0, 1, 2, 3], [4, 3, 2, 1])\n",
      "       A  B  C\n",
      "    0  4  5  a\n",
      "    1  3  6  b\n",
      "    2  2  7  c\n",
      "    3  1  8  d\n",
      "    4  4  9  e\n",
      "    \n",
      "    >>> s.replace([1, 2], method='bfill')\n",
      "    0    0\n",
      "    1    3\n",
      "    2    3\n",
      "    3    3\n",
      "    4    4\n",
      "    dtype: int64\n",
      "    \n",
      "    **dict-like `to_replace`**\n",
      "    \n",
      "    >>> df.replace({0: 10, 1: 100})\n",
      "         A  B  C\n",
      "    0   10  5  a\n",
      "    1  100  6  b\n",
      "    2    2  7  c\n",
      "    3    3  8  d\n",
      "    4    4  9  e\n",
      "    \n",
      "    >>> df.replace({'A': 0, 'B': 5}, 100)\n",
      "         A    B  C\n",
      "    0  100  100  a\n",
      "    1    1    6  b\n",
      "    2    2    7  c\n",
      "    3    3    8  d\n",
      "    4    4    9  e\n",
      "    \n",
      "    >>> df.replace({'A': {0: 100, 4: 400}})\n",
      "         A  B  C\n",
      "    0  100  5  a\n",
      "    1    1  6  b\n",
      "    2    2  7  c\n",
      "    3    3  8  d\n",
      "    4  400  9  e\n",
      "    \n",
      "    **Regular expression `to_replace`**\n",
      "    \n",
      "    >>> df = pd.DataFrame({'A': ['bat', 'foo', 'bait'],\n",
      "    ...                    'B': ['abc', 'bar', 'xyz']})\n",
      "    >>> df.replace(to_replace=r'^ba.$', value='new', regex=True)\n",
      "          A    B\n",
      "    0   new  abc\n",
      "    1   foo  new\n",
      "    2  bait  xyz\n",
      "    \n",
      "    >>> df.replace({'A': r'^ba.$'}, {'A': 'new'}, regex=True)\n",
      "          A    B\n",
      "    0   new  abc\n",
      "    1   foo  bar\n",
      "    2  bait  xyz\n",
      "    \n",
      "    >>> df.replace(regex=r'^ba.$', value='new')\n",
      "          A    B\n",
      "    0   new  abc\n",
      "    1   foo  new\n",
      "    2  bait  xyz\n",
      "    \n",
      "    >>> df.replace(regex={r'^ba.$': 'new', 'foo': 'xyz'})\n",
      "          A    B\n",
      "    0   new  abc\n",
      "    1   xyz  new\n",
      "    2  bait  xyz\n",
      "    \n",
      "    >>> df.replace(regex=[r'^ba.$', 'foo'], value='new')\n",
      "          A    B\n",
      "    0   new  abc\n",
      "    1   new  new\n",
      "    2  bait  xyz\n",
      "    \n",
      "    Compare the behavior of ``s.replace({'a': None})`` and\n",
      "    ``s.replace('a', None)`` to understand the peculiarities\n",
      "    of the `to_replace` parameter:\n",
      "    \n",
      "    >>> s = pd.Series([10, 'a', 'a', 'b', 'a'])\n",
      "    \n",
      "    When one uses a dict as the `to_replace` value, it is like the\n",
      "    value(s) in the dict are equal to the `value` parameter.\n",
      "    ``s.replace({'a': None})`` is equivalent to\n",
      "    ``s.replace(to_replace={'a': None}, value=None, method=None)``:\n",
      "    \n",
      "    >>> s.replace({'a': None})\n",
      "    0      10\n",
      "    1    None\n",
      "    2    None\n",
      "    3       b\n",
      "    4    None\n",
      "    dtype: object\n",
      "    \n",
      "    When ``value=None`` and `to_replace` is a scalar, list or\n",
      "    tuple, `replace` uses the method parameter (default 'pad') to do the\n",
      "    replacement. So this is why the 'a' values are being replaced by 10\n",
      "    in rows 1 and 2 and 'b' in row 4 in this case.\n",
      "    The command ``s.replace('a', None)`` is actually equivalent to\n",
      "    ``s.replace(to_replace='a', value=None, method='pad')``:\n",
      "    \n",
      "    >>> s.replace('a', None)\n",
      "    0    10\n",
      "    1    10\n",
      "    2    10\n",
      "    3     b\n",
      "    4     b\n",
      "    dtype: object\n",
      "\n"
     ]
    }
   ],
   "source": [
    "help(df.replace)"
   ]
  },
  {
   "cell_type": "code",
   "execution_count": 117,
   "id": "4acc9e11",
   "metadata": {},
   "outputs": [],
   "source": [
    "# replacing commissioning dates having multiple years into single first year\n",
    "\n",
    "df.replace({'Commissioning date':{'2000/2001':'2000','2006/2007':'2006','2005/2006/2012':'2005','2004/2005':'2004','2002/2006':'2002','2006/2008':'2006','2011/2012':'2011','2013/2014':'2013','2014/2015':'2014','2001/2003':'2001'}},\n",
    "          inplace=True)"
   ]
  },
  {
   "cell_type": "code",
   "execution_count": 118,
   "id": "3928f7d9",
   "metadata": {},
   "outputs": [],
   "source": [
    "#replacing the turbine rated capacity having multiple values to the highest value\n",
    "df.replace({'Turbine rated capacity (kW)':{'1815/1950':'1950','1903/2126/2221':'2221','1800-2300':'2300'}},inplace=True)"
   ]
  },
  {
   "cell_type": "code",
   "execution_count": 119,
   "id": "24747a71",
   "metadata": {},
   "outputs": [
    {
     "name": "stdout",
     "output_type": "stream",
     "text": [
      "OBJECTID                         int64\n",
      "Province/Territory              object\n",
      "Project name                    object\n",
      "Total project capacity (MW)    float64\n",
      "Turbine identifier              object\n",
      "Turbine number in project       object\n",
      "Turbine rated capacity (kW)      int32\n",
      "Rotor diameter (m)             float64\n",
      "Hub height (m)                 float64\n",
      "Manufacturer                    object\n",
      "Model                           object\n",
      "Commissioning date               int32\n",
      "Latitude                       float64\n",
      "Longitude                      float64\n",
      "Notes                           object\n",
      "turbine number                  object\n",
      "total turbines                  object\n",
      "dtype: object\n"
     ]
    }
   ],
   "source": [
    "#changing the data types\n",
    "df[\"Commissioning date\"] = df[\"Commissioning date\"].astype(str).astype(int)\n",
    "df[\"Turbine rated capacity (kW)\"] = df[\"Turbine rated capacity (kW)\"].astype(str).astype(int)\n",
    "df[\"Province/Territory\"] = df[\"Province/Territory\"].astype(object)\n",
    "print(df.dtypes)"
   ]
  },
  {
   "cell_type": "code",
   "execution_count": 120,
   "id": "424a1e6b",
   "metadata": {},
   "outputs": [
    {
     "name": "stdout",
     "output_type": "stream",
     "text": [
      "<class 'pandas.core.frame.DataFrame'>\n",
      "RangeIndex: 6698 entries, 0 to 6697\n",
      "Data columns (total 17 columns):\n",
      " #   Column                       Non-Null Count  Dtype  \n",
      "---  ------                       --------------  -----  \n",
      " 0   OBJECTID                     6698 non-null   int64  \n",
      " 1   Province/Territory           6698 non-null   object \n",
      " 2   Project name                 6697 non-null   object \n",
      " 3   Total project capacity (MW)  6698 non-null   float64\n",
      " 4   Turbine identifier           6698 non-null   object \n",
      " 5   Turbine number in project    6698 non-null   object \n",
      " 6   Turbine rated capacity (kW)  6698 non-null   int32  \n",
      " 7   Rotor diameter (m)           6698 non-null   float64\n",
      " 8   Hub height (m)               6698 non-null   float64\n",
      " 9   Manufacturer                 6698 non-null   object \n",
      " 10  Model                        6698 non-null   object \n",
      " 11  Commissioning date           6698 non-null   int32  \n",
      " 12  Latitude                     6698 non-null   float64\n",
      " 13  Longitude                    6698 non-null   float64\n",
      " 14  Notes                        634 non-null    object \n",
      " 15  turbine number               6698 non-null   object \n",
      " 16  total turbines               6698 non-null   object \n",
      "dtypes: float64(5), int32(2), int64(1), object(9)\n",
      "memory usage: 837.4+ KB\n"
     ]
    }
   ],
   "source": [
    "df.info()"
   ]
  },
  {
   "cell_type": "code",
   "execution_count": 121,
   "id": "d99a1d53",
   "metadata": {},
   "outputs": [
    {
     "data": {
      "image/png": "[encoded data removed]",
      "text/plain": [
       "<Figure size 432x288 with 1 Axes>"
      ]
     },
     "metadata": {
      "needs_background": "light"
     },
     "output_type": "display_data"
    }
   ],
   "source": [
    "#plotting number of turbines installed per year\n",
    "sns.countplot(y='Commissioning date',data=df)\n",
    "plt.savefig('turbines installed per year')"
   ]
  },
  {
   "cell_type": "code",
   "execution_count": 146,
   "id": "8a9ae281",
   "metadata": {},
   "outputs": [
    {
     "data": {
      "image/png": "[encoded data removed]",
      "text/plain": [
       "<Figure size 1080x720 with 1 Axes>"
      ]
     },
     "metadata": {
      "needs_background": "light"
     },
     "output_type": "display_data"
    }
   ],
   "source": [
    "sns.countplot(df['Commissioning date'],color ='red')\n",
    "plt.gcf().set_size_inches(15, 10)\n",
    "plt.title(\"turbines installed per year\")\n",
    "plt.xlabel(\"Commissioning Year\")\n",
    "plt.ylabel(\"count of turbines installed\")\n",
    "plt.savefig('D:/11.jpg')"
   ]
  },
  {
   "cell_type": "markdown",
   "id": "d73d3464",
   "metadata": {},
   "source": [
    "#Findings  \n",
    "\n",
    "1.we can see that most of the turbines are installed in the year 2014  followed by 2013 with count of nearly 1150 and 800."
   ]
  },
  {
   "cell_type": "code",
   "execution_count": 123,
   "id": "e477928b",
   "metadata": {},
   "outputs": [
    {
     "data": {
      "text/plain": [
       "268"
      ]
     },
     "execution_count": 123,
     "metadata": {},
     "output_type": "execute_result"
    }
   ],
   "source": [
    "df['Project name'].nunique()"
   ]
  },
  {
   "cell_type": "code",
   "execution_count": 124,
   "id": "4504fcb6",
   "metadata": {},
   "outputs": [
    {
     "data": {
      "text/plain": [
       "99.00     319\n",
       "300.00    237\n",
       "350.00    175\n",
       "100.00    170\n",
       "298.80    169\n",
       "         ... \n",
       "1.40        1\n",
       "0.50        1\n",
       "1.80        1\n",
       "0.65        1\n",
       "0.75        1\n",
       "Name: Total project capacity (MW), Length: 154, dtype: int64"
      ]
     },
     "execution_count": 124,
     "metadata": {},
     "output_type": "execute_result"
    }
   ],
   "source": [
    "df['Total project capacity (MW)'].value_counts()"
   ]
  },
  {
   "cell_type": "code",
   "execution_count": 125,
   "id": "4a4ec68c",
   "metadata": {},
   "outputs": [
    {
     "data": {
      "image/png": "[encoded data removed]",
      "text/plain": [
       "<Figure size 1440x1080 with 1 Axes>"
      ]
     },
     "metadata": {
      "needs_background": "light"
     },
     "output_type": "display_data"
    }
   ],
   "source": [
    "sns.countplot(df['Total project capacity (MW)'])\n",
    "plt.gcf().set_size_inches(20, 15)"
   ]
  },
  {
   "cell_type": "code",
   "execution_count": 126,
   "id": "d4544524",
   "metadata": {},
   "outputs": [
    {
     "data": {
      "text/plain": [
       "154"
      ]
     },
     "execution_count": 126,
     "metadata": {},
     "output_type": "execute_result"
    }
   ],
   "source": [
    "df['Total project capacity (MW)'].nunique()"
   ]
  },
  {
   "cell_type": "code",
   "execution_count": 127,
   "id": "32c260d3",
   "metadata": {},
   "outputs": [],
   "source": [
    "#creating the data frame \n",
    "df1=df[['Project name','Total project capacity (MW)']]\n",
    "df2=df1.drop_duplicates(['Project name', ])"
   ]
  },
  {
   "cell_type": "code",
   "execution_count": 128,
   "id": "20f56440",
   "metadata": {},
   "outputs": [
    {
     "name": "stdout",
     "output_type": "stream",
     "text": [
      "OBJECTID                         int64\n",
      "Province/Territory              object\n",
      "Project name                    object\n",
      "Total project capacity (MW)    float64\n",
      "Turbine identifier              object\n",
      "Turbine number in project       object\n",
      "Turbine rated capacity (kW)      int32\n",
      "Rotor diameter (m)             float64\n",
      "Hub height (m)                 float64\n",
      "Manufacturer                    object\n",
      "Model                           object\n",
      "Commissioning date               int32\n",
      "Latitude                       float64\n",
      "Longitude                      float64\n",
      "Notes                           object\n",
      "turbine number                  object\n",
      "total turbines                  object\n",
      "dtype: object\n"
     ]
    }
   ],
   "source": [
    "print(df.dtypes)"
   ]
  },
  {
   "cell_type": "code",
   "execution_count": 129,
   "id": "48390630",
   "metadata": {},
   "outputs": [],
   "source": [
    "top_15=df2.nlargest(n=15, columns=['Total project capacity (MW)'])"
   ]
  },
  {
   "cell_type": "code",
   "execution_count": 147,
   "id": "cfae46dc",
   "metadata": {},
   "outputs": [
    {
     "data": {
      "image/png": "[encoded data removed]",
      "text/plain": [
       "<Figure size 1440x720 with 1 Axes>"
      ]
     },
     "metadata": {
      "needs_background": "light"
     },
     "output_type": "display_data"
    }
   ],
   "source": [
    "df3=df2.sort_values(['Project name',], ascending=False).groupby('Project name').head(15)\n",
    "top_15.plot('Project name','Total project capacity (MW)',color=\"black\")\n",
    "plt.gcf().set_size_inches(20,10)\n",
    "plt.xlabel(\"project name\")\n",
    "plt.ylabel(\"project capacity in MW\")\n",
    "plt.legend()\n",
    "plt.xticks(rotation=30, ha='right')\n",
    "plt.savefig('D:/12.jpg')"
   ]
  },
  {
   "cell_type": "markdown",
   "id": "f318666f",
   "metadata": {},
   "source": [
    "# findings\n",
    "\n",
    "we can see the top 15 projects capacity ranges between 350 to 175 MW"
   ]
  },
  {
   "cell_type": "code",
   "execution_count": 131,
   "id": "7e97e766",
   "metadata": {},
   "outputs": [
    {
     "data": {
      "text/plain": [
       "<AxesSubplot:xlabel='Model', ylabel='count'>"
      ]
     },
     "execution_count": 131,
     "metadata": {},
     "output_type": "execute_result"
    },
    {
     "data": {
      "image/png": "[encoded data removed]",
      "text/plain": [
       "<Figure size 432x288 with 1 Axes>"
      ]
     },
     "metadata": {
      "needs_background": "light"
     },
     "output_type": "display_data"
    }
   ],
   "source": [
    "sns.countplot(df['Model'])\n"
   ]
  },
  {
   "cell_type": "code",
   "execution_count": 132,
   "id": "d8c1ce12",
   "metadata": {},
   "outputs": [
    {
     "data": {
      "text/html": [
       "<div>\n",
       "<style scoped>\n",
       "    .dataframe tbody tr th:only-of-type {\n",
       "        vertical-align: middle;\n",
       "    }\n",
       "\n",
       "    .dataframe tbody tr th {\n",
       "        vertical-align: top;\n",
       "    }\n",
       "\n",
       "    .dataframe thead th {\n",
       "        text-align: right;\n",
       "    }\n",
       "</style>\n",
       "<table border=\"1\" class=\"dataframe\">\n",
       "  <thead>\n",
       "    <tr style=\"text-align: right;\">\n",
       "      <th></th>\n",
       "      <th>Model</th>\n",
       "      <th>Turbine rated capacity (kW)</th>\n",
       "    </tr>\n",
       "  </thead>\n",
       "  <tbody>\n",
       "    <tr>\n",
       "      <th>0</th>\n",
       "      <td>AN 150/30</td>\n",
       "      <td>150</td>\n",
       "    </tr>\n",
       "    <tr>\n",
       "      <th>1</th>\n",
       "      <td>V44/600</td>\n",
       "      <td>600</td>\n",
       "    </tr>\n",
       "    <tr>\n",
       "      <th>2</th>\n",
       "      <td>V44/600</td>\n",
       "      <td>600</td>\n",
       "    </tr>\n",
       "    <tr>\n",
       "      <th>3</th>\n",
       "      <td>V44/600</td>\n",
       "      <td>600</td>\n",
       "    </tr>\n",
       "    <tr>\n",
       "      <th>4</th>\n",
       "      <td>V44/600</td>\n",
       "      <td>600</td>\n",
       "    </tr>\n",
       "    <tr>\n",
       "      <th>5</th>\n",
       "      <td>V47/660</td>\n",
       "      <td>660</td>\n",
       "    </tr>\n",
       "    <tr>\n",
       "      <th>6</th>\n",
       "      <td>N60/1300</td>\n",
       "      <td>1300</td>\n",
       "    </tr>\n",
       "    <tr>\n",
       "      <th>7</th>\n",
       "      <td>N60/1300</td>\n",
       "      <td>1300</td>\n",
       "    </tr>\n",
       "    <tr>\n",
       "      <th>8</th>\n",
       "      <td>N60/1300</td>\n",
       "      <td>1300</td>\n",
       "    </tr>\n",
       "    <tr>\n",
       "      <th>9</th>\n",
       "      <td>N60/1300</td>\n",
       "      <td>1300</td>\n",
       "    </tr>\n",
       "  </tbody>\n",
       "</table>\n",
       "</div>"
      ],
      "text/plain": [
       "       Model  Turbine rated capacity (kW)\n",
       "0  AN 150/30                          150\n",
       "1    V44/600                          600\n",
       "2    V44/600                          600\n",
       "3    V44/600                          600\n",
       "4    V44/600                          600\n",
       "5    V47/660                          660\n",
       "6   N60/1300                         1300\n",
       "7   N60/1300                         1300\n",
       "8   N60/1300                         1300\n",
       "9   N60/1300                         1300"
      ]
     },
     "execution_count": 132,
     "metadata": {},
     "output_type": "execute_result"
    }
   ],
   "source": [
    "df_model= df[['Model','Turbine rated capacity (kW)']]\n",
    "df_model.head(10)"
   ]
  },
  {
   "cell_type": "code",
   "execution_count": 133,
   "id": "8fc15a37",
   "metadata": {},
   "outputs": [
    {
     "name": "stdout",
     "output_type": "stream",
     "text": [
      "          Model  Turbine rated capacity (kW)\n",
      "0     AN 150/30                          150\n",
      "1       V44/600                          600\n",
      "5       V47/660                          660\n",
      "6      N60/1300                         1300\n",
      "21     E-40/600                          600\n",
      "...         ...                          ...\n",
      "5945  V117/3450                         3450\n",
      "6185       E-72                         2300\n",
      "6207    E-82 E2                         2300\n",
      "6670        E82                         2000\n",
      "6696    B23/150                          150\n",
      "\n",
      "[125 rows x 2 columns]\n"
     ]
    }
   ],
   "source": [
    "df_model= df_model.drop_duplicates()\n",
    "print(df_model)"
   ]
  },
  {
   "cell_type": "code",
   "execution_count": 134,
   "id": "87da2ccc",
   "metadata": {},
   "outputs": [
    {
     "data": {
      "text/html": [
       "<div>\n",
       "<style scoped>\n",
       "    .dataframe tbody tr th:only-of-type {\n",
       "        vertical-align: middle;\n",
       "    }\n",
       "\n",
       "    .dataframe tbody tr th {\n",
       "        vertical-align: top;\n",
       "    }\n",
       "\n",
       "    .dataframe thead th {\n",
       "        text-align: right;\n",
       "    }\n",
       "</style>\n",
       "<table border=\"1\" class=\"dataframe\">\n",
       "  <thead>\n",
       "    <tr style=\"text-align: right;\">\n",
       "      <th></th>\n",
       "      <th>Model</th>\n",
       "      <th>Turbine rated capacity (kW)</th>\n",
       "    </tr>\n",
       "  </thead>\n",
       "  <tbody>\n",
       "    <tr>\n",
       "      <th>0</th>\n",
       "      <td>AN 150/30</td>\n",
       "      <td>150</td>\n",
       "    </tr>\n",
       "    <tr>\n",
       "      <th>1</th>\n",
       "      <td>V44/600</td>\n",
       "      <td>600</td>\n",
       "    </tr>\n",
       "    <tr>\n",
       "      <th>5</th>\n",
       "      <td>V47/660</td>\n",
       "      <td>660</td>\n",
       "    </tr>\n",
       "    <tr>\n",
       "      <th>6</th>\n",
       "      <td>N60/1300</td>\n",
       "      <td>1300</td>\n",
       "    </tr>\n",
       "    <tr>\n",
       "      <th>21</th>\n",
       "      <td>E-40/600</td>\n",
       "      <td>600</td>\n",
       "    </tr>\n",
       "    <tr>\n",
       "      <th>29</th>\n",
       "      <td>V80/1800</td>\n",
       "      <td>1800</td>\n",
       "    </tr>\n",
       "    <tr>\n",
       "      <th>145</th>\n",
       "      <td>V90/3000</td>\n",
       "      <td>3000</td>\n",
       "    </tr>\n",
       "    <tr>\n",
       "      <th>146</th>\n",
       "      <td>GE 1.5SLE</td>\n",
       "      <td>1500</td>\n",
       "    </tr>\n",
       "    <tr>\n",
       "      <th>166</th>\n",
       "      <td>LW750-52</td>\n",
       "      <td>750</td>\n",
       "    </tr>\n",
       "    <tr>\n",
       "      <th>319</th>\n",
       "      <td>GE 1.6-100</td>\n",
       "      <td>1600</td>\n",
       "    </tr>\n",
       "    <tr>\n",
       "      <th>392</th>\n",
       "      <td>E-70/2300</td>\n",
       "      <td>2300</td>\n",
       "    </tr>\n",
       "    <tr>\n",
       "      <th>429</th>\n",
       "      <td>GE 1.6XLE</td>\n",
       "      <td>1600</td>\n",
       "    </tr>\n",
       "    <tr>\n",
       "      <th>484</th>\n",
       "      <td>E-70 E4</td>\n",
       "      <td>2310</td>\n",
       "    </tr>\n",
       "    <tr>\n",
       "      <th>517</th>\n",
       "      <td>V90/1800</td>\n",
       "      <td>1800</td>\n",
       "    </tr>\n",
       "    <tr>\n",
       "      <th>600</th>\n",
       "      <td>V100 1.8</td>\n",
       "      <td>1800</td>\n",
       "    </tr>\n",
       "    <tr>\n",
       "      <th>766</th>\n",
       "      <td>G90/2000</td>\n",
       "      <td>2000</td>\n",
       "    </tr>\n",
       "    <tr>\n",
       "      <th>769</th>\n",
       "      <td>SWT-2.3-101</td>\n",
       "      <td>2300</td>\n",
       "    </tr>\n",
       "    <tr>\n",
       "      <th>789</th>\n",
       "      <td>GE 1.7-103</td>\n",
       "      <td>1700</td>\n",
       "    </tr>\n",
       "    <tr>\n",
       "      <th>900</th>\n",
       "      <td>E-82/3000</td>\n",
       "      <td>3000</td>\n",
       "    </tr>\n",
       "    <tr>\n",
       "      <th>934</th>\n",
       "      <td>LTW77-1500</td>\n",
       "      <td>1500</td>\n",
       "    </tr>\n",
       "    <tr>\n",
       "      <th>983</th>\n",
       "      <td>V100</td>\n",
       "      <td>1800</td>\n",
       "    </tr>\n",
       "    <tr>\n",
       "      <th>1027</th>\n",
       "      <td>V90</td>\n",
       "      <td>1800</td>\n",
       "    </tr>\n",
       "    <tr>\n",
       "      <th>1117</th>\n",
       "      <td>GE 2.75-120</td>\n",
       "      <td>2750</td>\n",
       "    </tr>\n",
       "    <tr>\n",
       "      <th>1143</th>\n",
       "      <td>GE 3.2-103</td>\n",
       "      <td>3200</td>\n",
       "    </tr>\n",
       "    <tr>\n",
       "      <th>1178</th>\n",
       "      <td>3.2 M114</td>\n",
       "      <td>3000</td>\n",
       "    </tr>\n",
       "  </tbody>\n",
       "</table>\n",
       "</div>"
      ],
      "text/plain": [
       "            Model  Turbine rated capacity (kW)\n",
       "0       AN 150/30                          150\n",
       "1         V44/600                          600\n",
       "5         V47/660                          660\n",
       "6        N60/1300                         1300\n",
       "21       E-40/600                          600\n",
       "29       V80/1800                         1800\n",
       "145      V90/3000                         3000\n",
       "146     GE 1.5SLE                         1500\n",
       "166      LW750-52                          750\n",
       "319    GE 1.6-100                         1600\n",
       "392     E-70/2300                         2300\n",
       "429     GE 1.6XLE                         1600\n",
       "484       E-70 E4                         2310\n",
       "517      V90/1800                         1800\n",
       "600      V100 1.8                         1800\n",
       "766      G90/2000                         2000\n",
       "769   SWT-2.3-101                         2300\n",
       "789    GE 1.7-103                         1700\n",
       "900     E-82/3000                         3000\n",
       "934    LTW77-1500                         1500\n",
       "983          V100                         1800\n",
       "1027          V90                         1800\n",
       "1117  GE 2.75-120                         2750\n",
       "1143   GE 3.2-103                         3200\n",
       "1178     3.2 M114                         3000"
      ]
     },
     "execution_count": 134,
     "metadata": {},
     "output_type": "execute_result"
    }
   ],
   "source": [
    "df_model.head(25)"
   ]
  },
  {
   "cell_type": "code",
   "execution_count": 135,
   "id": "13a82f96",
   "metadata": {},
   "outputs": [
    {
     "name": "stdout",
     "output_type": "stream",
     "text": [
      "            Model  Turbine rated capacity (kW)\n",
      "1188   E-141/4200                         3750\n",
      "4225    V136/3450                         3450\n",
      "5945    V117/3450                         3450\n",
      "1439         V126                         3300\n",
      "1143   GE 3.2-103                         3200\n",
      "4114  SWT 3.2-113                         3200\n",
      "5806     3.2 M114                         3200\n",
      "145      V90/3000                         3000\n",
      "900     E-82/3000                         3000\n",
      "1178     3.2 M114                         3000\n",
      "1325          V90                         3000\n",
      "1703  AW-3000/116                         3000\n",
      "1738    E-92/3000                         3000\n",
      "3351  SWT 3.0-113                         3000\n",
      "4028   E-101/3000                         3000\n",
      "4542   AW116/3000                         3000\n",
      "5685         E-92                         3000\n",
      "5798         E-82                         3000\n",
      "4192  SWT 3.2-113                         2942\n",
      "3319  GE 2.85-103                         2850\n",
      "4191  SWT 3.2-113                         2772\n",
      "1117  GE 2.75-120                         2750\n",
      "3106  GE 2.75-103                         2750\n",
      "3149   GE 1.6-100                         2750\n",
      "3760  SWT 3.2-113                         2648\n",
      "2627   GE 2.5-100                         2500\n",
      "2753         25xc                         2500\n",
      "4105  SWT 3.0-113                         2500\n",
      "3762  SWT 3.2-113                         2483\n",
      "3964  SWT 3.0-113                         2483\n"
     ]
    }
   ],
   "source": [
    "top_30=df_model.nlargest(n=30, columns=['Turbine rated capacity (kW)'])\n",
    "print(top_30)"
   ]
  },
  {
   "cell_type": "code",
   "execution_count": 136,
   "id": "ac307e40",
   "metadata": {},
   "outputs": [],
   "source": [
    "model1=top_30['Model'].head(30)\n",
    "turbine_capacity=top_30['Turbine rated capacity (kW)'].head(30)"
   ]
  },
  {
   "cell_type": "code",
   "execution_count": 137,
   "id": "312857d4",
   "metadata": {},
   "outputs": [
    {
     "data": {
      "text/plain": [
       "<AxesSubplot:>"
      ]
     },
     "execution_count": 137,
     "metadata": {},
     "output_type": "execute_result"
    },
    {
     "data": {
      "image/png": "[encoded data removed]",
      "text/plain": [
       "<Figure size 432x288 with 1 Axes>"
      ]
     },
     "metadata": {
      "needs_background": "light"
     },
     "output_type": "display_data"
    }
   ],
   "source": [
    "top_30.plot(kind='bar')"
   ]
  },
  {
   "cell_type": "code",
   "execution_count": 138,
   "id": "05e93ff3",
   "metadata": {},
   "outputs": [
    {
     "name": "stderr",
     "output_type": "stream",
     "text": [
      "No handles with labels found to put in legend.\n"
     ]
    },
    {
     "data": {
      "text/plain": [
       "<matplotlib.legend.Legend at 0x22b240c9520>"
      ]
     },
     "execution_count": 138,
     "metadata": {},
     "output_type": "execute_result"
    },
    {
     "data": {
      "image/png": "[encoded data removed]",
      "text/plain": [
       "<Figure size 1800x1080 with 1 Axes>"
      ]
     },
     "metadata": {
      "needs_background": "light"
     },
     "output_type": "display_data"
    }
   ],
   "source": [
    "plt.bar(model1,turbine_capacity, color ='green',width = 0.5)\n",
    "plt.gcf().set_size_inches(25,15)\n",
    "plt.title(\"turbine capacities based on the model\")\n",
    "plt.xlabel(\"model\")\n",
    "plt.ylabel(\"turbine rated capacity\")\n",
    "plt.legend()"
   ]
  },
  {
   "cell_type": "markdown",
   "id": "cd360fcd",
   "metadata": {},
   "source": [
    "#finding\n",
    "\n",
    "we can see that model-E-141/4200 is having the highest turbine rated capacity with 3750kw and the top 20 models range from \n",
    "3750 to 3000 kw "
   ]
  },
  {
   "cell_type": "code",
   "execution_count": 139,
   "id": "72d0d007",
   "metadata": {
    "scrolled": true
   },
   "outputs": [
    {
     "data": {
      "text/plain": [
       "Vestas                      1834\n",
       "GE                          1725\n",
       "Siemens                     1248\n",
       "Enercon                      960\n",
       "Senvion                      643\n",
       "NEG Micon                    132\n",
       "Acciona Wind Power            40\n",
       "Acciona                       34\n",
       "Nordex                        20\n",
       "Suzlon                        15\n",
       "Vensys                         9\n",
       "Gamesa                         8\n",
       "Windmatic                      6\n",
       "DeWind                         5\n",
       "Samsung Renewable Energy       4\n",
       "Northwind                      3\n",
       "Turbowinds                     3\n",
       "EWT                            2\n",
       "Lagerwey                       2\n",
       "Bonus                          2\n",
       "Leitwind                       1\n",
       "Tacke                          1\n",
       "Pfleiderer                     1\n",
       "Name: Manufacturer, dtype: int64"
      ]
     },
     "execution_count": 139,
     "metadata": {},
     "output_type": "execute_result"
    }
   ],
   "source": [
    "manufacturer_count=df['Manufacturer'].value_counts()\n",
    "manufacturer_count\n",
    "\n"
   ]
  },
  {
   "cell_type": "code",
   "execution_count": 140,
   "id": "de023007",
   "metadata": {},
   "outputs": [
    {
     "data": {
      "image/png": "[encoded data removed]",
      "text/plain": [
       "<Figure size 1440x1080 with 1 Axes>"
      ]
     },
     "metadata": {},
     "output_type": "display_data"
    }
   ],
   "source": [
    "manufacturer_make=['Vestas','GE','Siemens','Enercon','Senvion','NEG Micron','Acciona Wind Power','Acciona','Nordex','Suzlon',\n",
    "                   'Vensys','Gamesa','Windmatic','DeWind','Samsung Renewable Energy','Northwind/Turbowinds',\n",
    "                   'EWT/LAgerwey/Bonus','Leitwind/pfleiderer/Tacke']\n",
    "number_installed=['1834','1725','1248','960','643','132','40','34','20','15','9','8','6','5','4','3','2','1']\n",
    "\n",
    "fig = plt.figure(figsize =(20, 15))\n",
    "plt.pie(number_installed, labels =manufacturer_make,)\n",
    "plt.legend()\n",
    "plt.show()"
   ]
  },
  {
   "cell_type": "code",
   "execution_count": 141,
   "id": "59c96695",
   "metadata": {},
   "outputs": [
    {
     "name": "stdout",
     "output_type": "stream",
     "text": [
      "Requirement already satisfied: plotly in c:\\users\\dell\\anaconda3\\lib\\site-packages (5.6.0)\n",
      "Requirement already satisfied: six in c:\\users\\dell\\anaconda3\\lib\\site-packages (from plotly) (1.15.0)\n",
      "Requirement already satisfied: tenacity>=6.2.0 in c:\\users\\dell\\anaconda3\\lib\\site-packages (from plotly) (8.0.1)\n"
     ]
    }
   ],
   "source": [
    "!pip install plotly\n",
    "import plotly.express as px"
   ]
  },
  {
   "cell_type": "code",
   "execution_count": 142,
   "id": "b58f352e",
   "metadata": {},
   "outputs": [
    {
     "data": {
      "application/vnd.plotly.v1+json": {
       "config": {
        "plotlyServerURL": "https://plot.ly"
       },
       "data": [
        {
         "domain": {
          "x": [
           0,
           1
          ],
          "y": [
           0,
           1
          ]
         },
         "hovertemplate": "label=%{label}<br>value=%{value}<extra></extra>",
         "labels": [
          "Vestas",
          "GE",
          "Siemens",
          "Enercon",
          "Senvion",
          "NEG Micron",
          "Acciona Wind Power",
          "Acciona",
          "Nordex",
          "Suzlon",
          "Vensys",
          "Gamesa",
          "Windmatic",
          "DeWind",
          "Samsung Renewable Energy",
          "Northwind/Turbowinds",
          "EWT/LAgerwey/Bonus",
          "Leitwind/pfleiderer/Tacke"
         ],
         "legendgroup": "",
         "name": "",
         "showlegend": true,
         "type": "pie",
         "values": [
          "1834",
          "1725",
          "1248",
          "960",
          "643",
          "132",
          "40",
          "34",
          "20",
          "15",
          "9",
          "8",
          "6",
          "5",
          "4",
          "3",
          "2",
          "1"
         ]
        }
       ],
       "layout": {
        "legend": {
         "tracegroupgap": 0
        },
        "template": {
         "data": {
          "bar": [
           {
            "error_x": {
             "color": "#2a3f5f"
            },
            "error_y": {
             "color": "#2a3f5f"
            },
            "marker": {
             "line": {
              "color": "#E5ECF6",
              "width": 0.5
             },
             "pattern": {
              "fillmode": "overlay",
              "size": 10,
              "solidity": 0.2
             }
            },
            "type": "bar"
           }
          ],
          "barpolar": [
           {
            "marker": {
             "line": {
              "color": "#E5ECF6",
              "width": 0.5
             },
             "pattern": {
              "fillmode": "overlay",
              "size": 10,
              "solidity": 0.2
             }
            },
            "type": "barpolar"
           }
          ],
          "carpet": [
           {
            "aaxis": {
             "endlinecolor": "#2a3f5f",
             "gridcolor": "white",
             "linecolor": "white",
             "minorgridcolor": "white",
             "startlinecolor": "#2a3f5f"
            },
            "baxis": {
             "endlinecolor": "#2a3f5f",
             "gridcolor": "white",
             "linecolor": "white",
             "minorgridcolor": "white",
             "startlinecolor": "#2a3f5f"
            },
            "type": "carpet"
           }
          ],
          "choropleth": [
           {
            "colorbar": {
             "outlinewidth": 0,
             "ticks": ""
            },
            "type": "choropleth"
           }
          ],
          "contour": [
           {
            "colorbar": {
             "outlinewidth": 0,
             "ticks": ""
            },
            "colorscale": [
             [
              0,
              "#0d0887"
             ],
             [
              0.1111111111111111,
              "#46039f"
             ],
             [
              0.2222222222222222,
              "#7201a8"
             ],
             [
              0.3333333333333333,
              "#9c179e"
             ],
             [
              0.4444444444444444,
              "#bd3786"
             ],
             [
              0.5555555555555556,
              "#d8576b"
             ],
             [
              0.6666666666666666,
              "#ed7953"
             ],
             [
              0.7777777777777778,
              "#fb9f3a"
             ],
             [
              0.8888888888888888,
              "#fdca26"
             ],
             [
              1,
              "#f0f921"
             ]
            ],
            "type": "contour"
           }
          ],
          "contourcarpet": [
           {
            "colorbar": {
             "outlinewidth": 0,
             "ticks": ""
            },
            "type": "contourcarpet"
           }
          ],
          "heatmap": [
           {
            "colorbar": {
             "outlinewidth": 0,
             "ticks": ""
            },
            "colorscale": [
             [
              0,
              "#0d0887"
             ],
             [
              0.1111111111111111,
              "#46039f"
             ],
             [
              0.2222222222222222,
              "#7201a8"
             ],
             [
              0.3333333333333333,
              "#9c179e"
             ],
             [
              0.4444444444444444,
              "#bd3786"
             ],
             [
              0.5555555555555556,
              "#d8576b"
             ],
             [
              0.6666666666666666,
              "#ed7953"
             ],
             [
              0.7777777777777778,
              "#fb9f3a"
             ],
             [
              0.8888888888888888,
              "#fdca26"
             ],
             [
              1,
              "#f0f921"
             ]
            ],
            "type": "heatmap"
           }
          ],
          "heatmapgl": [
           {
            "colorbar": {
             "outlinewidth": 0,
             "ticks": ""
            },
            "colorscale": [
             [
              0,
              "#0d0887"
             ],
             [
              0.1111111111111111,
              "#46039f"
             ],
             [
              0.2222222222222222,
              "#7201a8"
             ],
             [
              0.3333333333333333,
              "#9c179e"
             ],
             [
              0.4444444444444444,
              "#bd3786"
             ],
             [
              0.5555555555555556,
              "#d8576b"
             ],
             [
              0.6666666666666666,
              "#ed7953"
             ],
             [
              0.7777777777777778,
              "#fb9f3a"
             ],
             [
              0.8888888888888888,
              "#fdca26"
             ],
             [
              1,
              "#f0f921"
             ]
            ],
            "type": "heatmapgl"
           }
          ],
          "histogram": [
           {
            "marker": {
             "pattern": {
              "fillmode": "overlay",
              "size": 10,
              "solidity": 0.2
             }
            },
            "type": "histogram"
           }
          ],
          "histogram2d": [
           {
            "colorbar": {
             "outlinewidth": 0,
             "ticks": ""
            },
            "colorscale": [
             [
              0,
              "#0d0887"
             ],
             [
              0.1111111111111111,
              "#46039f"
             ],
             [
              0.2222222222222222,
              "#7201a8"
             ],
             [
              0.3333333333333333,
              "#9c179e"
             ],
             [
              0.4444444444444444,
              "#bd3786"
             ],
             [
              0.5555555555555556,
              "#d8576b"
             ],
             [
              0.6666666666666666,
              "#ed7953"
             ],
             [
              0.7777777777777778,
              "#fb9f3a"
             ],
             [
              0.8888888888888888,
              "#fdca26"
             ],
             [
              1,
              "#f0f921"
             ]
            ],
            "type": "histogram2d"
           }
          ],
          "histogram2dcontour": [
           {
            "colorbar": {
             "outlinewidth": 0,
             "ticks": ""
            },
            "colorscale": [
             [
              0,
              "#0d0887"
             ],
             [
              0.1111111111111111,
              "#46039f"
             ],
             [
              0.2222222222222222,
              "#7201a8"
             ],
             [
              0.3333333333333333,
              "#9c179e"
             ],
             [
              0.4444444444444444,
              "#bd3786"
             ],
             [
              0.5555555555555556,
              "#d8576b"
             ],
             [
              0.6666666666666666,
              "#ed7953"
             ],
             [
              0.7777777777777778,
              "#fb9f3a"
             ],
             [
              0.8888888888888888,
              "#fdca26"
             ],
             [
              1,
              "#f0f921"
             ]
            ],
            "type": "histogram2dcontour"
           }
          ],
          "mesh3d": [
           {
            "colorbar": {
             "outlinewidth": 0,
             "ticks": ""
            },
            "type": "mesh3d"
           }
          ],
          "parcoords": [
           {
            "line": {
             "colorbar": {
              "outlinewidth": 0,
              "ticks": ""
             }
            },
            "type": "parcoords"
           }
          ],
          "pie": [
           {
            "automargin": true,
            "type": "pie"
           }
          ],
          "scatter": [
           {
            "marker": {
             "colorbar": {
              "outlinewidth": 0,
              "ticks": ""
             }
            },
            "type": "scatter"
           }
          ],
          "scatter3d": [
           {
            "line": {
             "colorbar": {
              "outlinewidth": 0,
              "ticks": ""
             }
            },
            "marker": {
             "colorbar": {
              "outlinewidth": 0,
              "ticks": ""
             }
            },
            "type": "scatter3d"
           }
          ],
          "scattercarpet": [
           {
            "marker": {
             "colorbar": {
              "outlinewidth": 0,
              "ticks": ""
             }
            },
            "type": "scattercarpet"
           }
          ],
          "scattergeo": [
           {
            "marker": {
             "colorbar": {
              "outlinewidth": 0,
              "ticks": ""
             }
            },
            "type": "scattergeo"
           }
          ],
          "scattergl": [
           {
            "marker": {
             "colorbar": {
              "outlinewidth": 0,
              "ticks": ""
             }
            },
            "type": "scattergl"
           }
          ],
          "scattermapbox": [
           {
            "marker": {
             "colorbar": {
              "outlinewidth": 0,
              "ticks": ""
             }
            },
            "type": "scattermapbox"
           }
          ],
          "scatterpolar": [
           {
            "marker": {
             "colorbar": {
              "outlinewidth": 0,
              "ticks": ""
             }
            },
            "type": "scatterpolar"
           }
          ],
          "scatterpolargl": [
           {
            "marker": {
             "colorbar": {
              "outlinewidth": 0,
              "ticks": ""
             }
            },
            "type": "scatterpolargl"
           }
          ],
          "scatterternary": [
           {
            "marker": {
             "colorbar": {
              "outlinewidth": 0,
              "ticks": ""
             }
            },
            "type": "scatterternary"
           }
          ],
          "surface": [
           {
            "colorbar": {
             "outlinewidth": 0,
             "ticks": ""
            },
            "colorscale": [
             [
              0,
              "#0d0887"
             ],
             [
              0.1111111111111111,
              "#46039f"
             ],
             [
              0.2222222222222222,
              "#7201a8"
             ],
             [
              0.3333333333333333,
              "#9c179e"
             ],
             [
              0.4444444444444444,
              "#bd3786"
             ],
             [
              0.5555555555555556,
              "#d8576b"
             ],
             [
              0.6666666666666666,
              "#ed7953"
             ],
             [
              0.7777777777777778,
              "#fb9f3a"
             ],
             [
              0.8888888888888888,
              "#fdca26"
             ],
             [
              1,
              "#f0f921"
             ]
            ],
            "type": "surface"
           }
          ],
          "table": [
           {
            "cells": {
             "fill": {
              "color": "#EBF0F8"
             },
             "line": {
              "color": "white"
             }
            },
            "header": {
             "fill": {
              "color": "#C8D4E3"
             },
             "line": {
              "color": "white"
             }
            },
            "type": "table"
           }
          ]
         },
         "layout": {
          "annotationdefaults": {
           "arrowcolor": "#2a3f5f",
           "arrowhead": 0,
           "arrowwidth": 1
          },
          "autotypenumbers": "strict",
          "coloraxis": {
           "colorbar": {
            "outlinewidth": 0,
            "ticks": ""
           }
          },
          "colorscale": {
           "diverging": [
            [
             0,
             "#8e0152"
            ],
            [
             0.1,
             "#c51b7d"
            ],
            [
             0.2,
             "#de77ae"
            ],
            [
             0.3,
             "#f1b6da"
            ],
            [
             0.4,
             "#fde0ef"
            ],
            [
             0.5,
             "#f7f7f7"
            ],
            [
             0.6,
             "#e6f5d0"
            ],
            [
             0.7,
             "#b8e186"
            ],
            [
             0.8,
             "#7fbc41"
            ],
            [
             0.9,
             "#4d9221"
            ],
            [
             1,
             "#276419"
            ]
           ],
           "sequential": [
            [
             0,
             "#0d0887"
            ],
            [
             0.1111111111111111,
             "#46039f"
            ],
            [
             0.2222222222222222,
             "#7201a8"
            ],
            [
             0.3333333333333333,
             "#9c179e"
            ],
            [
             0.4444444444444444,
             "#bd3786"
            ],
            [
             0.5555555555555556,
             "#d8576b"
            ],
            [
             0.6666666666666666,
             "#ed7953"
            ],
            [
             0.7777777777777778,
             "#fb9f3a"
            ],
            [
             0.8888888888888888,
             "#fdca26"
            ],
            [
             1,
             "#f0f921"
            ]
           ],
           "sequentialminus": [
            [
             0,
             "#0d0887"
            ],
            [
             0.1111111111111111,
             "#46039f"
            ],
            [
             0.2222222222222222,
             "#7201a8"
            ],
            [
             0.3333333333333333,
             "#9c179e"
            ],
            [
             0.4444444444444444,
             "#bd3786"
            ],
            [
             0.5555555555555556,
             "#d8576b"
            ],
            [
             0.6666666666666666,
             "#ed7953"
            ],
            [
             0.7777777777777778,
             "#fb9f3a"
            ],
            [
             0.8888888888888888,
             "#fdca26"
            ],
            [
             1,
             "#f0f921"
            ]
           ]
          },
          "colorway": [
           "#636efa",
           "#EF553B",
           "#00cc96",
           "#ab63fa",
           "#FFA15A",
           "#19d3f3",
           "#FF6692",
           "#B6E880",
           "#FF97FF",
           "#FECB52"
          ],
          "font": {
           "color": "#2a3f5f"
          },
          "geo": {
           "bgcolor": "white",
           "lakecolor": "white",
           "landcolor": "#E5ECF6",
           "showlakes": true,
           "showland": true,
           "subunitcolor": "white"
          },
          "hoverlabel": {
           "align": "left"
          },
          "hovermode": "closest",
          "mapbox": {
           "style": "light"
          },
          "paper_bgcolor": "white",
          "plot_bgcolor": "#E5ECF6",
          "polar": {
           "angularaxis": {
            "gridcolor": "white",
            "linecolor": "white",
            "ticks": ""
           },
           "bgcolor": "#E5ECF6",
           "radialaxis": {
            "gridcolor": "white",
            "linecolor": "white",
            "ticks": ""
           }
          },
          "scene": {
           "xaxis": {
            "backgroundcolor": "#E5ECF6",
            "gridcolor": "white",
            "gridwidth": 2,
            "linecolor": "white",
            "showbackground": true,
            "ticks": "",
            "zerolinecolor": "white"
           },
           "yaxis": {
            "backgroundcolor": "#E5ECF6",
            "gridcolor": "white",
            "gridwidth": 2,
            "linecolor": "white",
            "showbackground": true,
            "ticks": "",
            "zerolinecolor": "white"
           },
           "zaxis": {
            "backgroundcolor": "#E5ECF6",
            "gridcolor": "white",
            "gridwidth": 2,
            "linecolor": "white",
            "showbackground": true,
            "ticks": "",
            "zerolinecolor": "white"
           }
          },
          "shapedefaults": {
           "line": {
            "color": "#2a3f5f"
           }
          },
          "ternary": {
           "aaxis": {
            "gridcolor": "white",
            "linecolor": "white",
            "ticks": ""
           },
           "baxis": {
            "gridcolor": "white",
            "linecolor": "white",
            "ticks": ""
           },
           "bgcolor": "#E5ECF6",
           "caxis": {
            "gridcolor": "white",
            "linecolor": "white",
            "ticks": ""
           }
          },
          "title": {
           "x": 0.05
          },
          "xaxis": {
           "automargin": true,
           "gridcolor": "white",
           "linecolor": "white",
           "ticks": "",
           "title": {
            "standoff": 15
           },
           "zerolinecolor": "white",
           "zerolinewidth": 2
          },
          "yaxis": {
           "automargin": true,
           "gridcolor": "white",
           "linecolor": "white",
           "ticks": "",
           "title": {
            "standoff": 15
           },
           "zerolinecolor": "white",
           "zerolinewidth": 2
          }
         }
        },
        "title": {
         "text": "manufacturer count"
        }
       }
      },
      "text/html": [
       "<div>                            <div id=\"42ce0e7c-08e5-48bd-b07f-65a2b86d3435\" class=\"plotly-graph-div\" style=\"height:525px; width:100%;\"></div>            <script type=\"text/javascript\">                require([\"plotly\"], function(Plotly) {                    window.PLOTLYENV=window.PLOTLYENV || {};                                    if (document.getElementById(\"42ce0e7c-08e5-48bd-b07f-65a2b86d3435\")) {                    Plotly.newPlot(                        \"42ce0e7c-08e5-48bd-b07f-65a2b86d3435\",                        [{\"domain\":{\"x\":[0.0,1.0],\"y\":[0.0,1.0]},\"hovertemplate\":\"label=%{label}<br>value=%{value}<extra></extra>\",\"labels\":[\"Vestas\",\"GE\",\"Siemens\",\"Enercon\",\"Senvion\",\"NEG Micron\",\"Acciona Wind Power\",\"Acciona\",\"Nordex\",\"Suzlon\",\"Vensys\",\"Gamesa\",\"Windmatic\",\"DeWind\",\"Samsung Renewable Energy\",\"Northwind/Turbowinds\",\"EWT/LAgerwey/Bonus\",\"Leitwind/pfleiderer/Tacke\"],\"legendgroup\":\"\",\"name\":\"\",\"showlegend\":true,\"values\":[\"1834\",\"1725\",\"1248\",\"960\",\"643\",\"132\",\"40\",\"34\",\"20\",\"15\",\"9\",\"8\",\"6\",\"5\",\"4\",\"3\",\"2\",\"1\"],\"type\":\"pie\"}],                        {\"template\":{\"data\":{\"bar\":[{\"error_x\":{\"color\":\"#2a3f5f\"},\"error_y\":{\"color\":\"#2a3f5f\"},\"marker\":{\"line\":{\"color\":\"#E5ECF6\",\"width\":0.5},\"pattern\":{\"fillmode\":\"overlay\",\"size\":10,\"solidity\":0.2}},\"type\":\"bar\"}],\"barpolar\":[{\"marker\":{\"line\":{\"color\":\"#E5ECF6\",\"width\":0.5},\"pattern\":{\"fillmode\":\"overlay\",\"size\":10,\"solidity\":0.2}},\"type\":\"barpolar\"}],\"carpet\":[{\"aaxis\":{\"endlinecolor\":\"#2a3f5f\",\"gridcolor\":\"white\",\"linecolor\":\"white\",\"minorgridcolor\":\"white\",\"startlinecolor\":\"#2a3f5f\"},\"baxis\":{\"endlinecolor\":\"#2a3f5f\",\"gridcolor\":\"white\",\"linecolor\":\"white\",\"minorgridcolor\":\"white\",\"startlinecolor\":\"#2a3f5f\"},\"type\":\"carpet\"}],\"choropleth\":[{\"colorbar\":{\"outlinewidth\":0,\"ticks\":\"\"},\"type\":\"choropleth\"}],\"contour\":[{\"colorbar\":{\"outlinewidth\":0,\"ticks\":\"\"},\"colorscale\":[[0.0,\"#0d0887\"],[0.1111111111111111,\"#46039f\"],[0.2222222222222222,\"#7201a8\"],[0.3333333333333333,\"#9c179e\"],[0.4444444444444444,\"#bd3786\"],[0.5555555555555556,\"#d8576b\"],[0.6666666666666666,\"#ed7953\"],[0.7777777777777778,\"#fb9f3a\"],[0.8888888888888888,\"#fdca26\"],[1.0,\"#f0f921\"]],\"type\":\"contour\"}],\"contourcarpet\":[{\"colorbar\":{\"outlinewidth\":0,\"ticks\":\"\"},\"type\":\"contourcarpet\"}],\"heatmap\":[{\"colorbar\":{\"outlinewidth\":0,\"ticks\":\"\"},\"colorscale\":[[0.0,\"#0d0887\"],[0.1111111111111111,\"#46039f\"],[0.2222222222222222,\"#7201a8\"],[0.3333333333333333,\"#9c179e\"],[0.4444444444444444,\"#bd3786\"],[0.5555555555555556,\"#d8576b\"],[0.6666666666666666,\"#ed7953\"],[0.7777777777777778,\"#fb9f3a\"],[0.8888888888888888,\"#fdca26\"],[1.0,\"#f0f921\"]],\"type\":\"heatmap\"}],\"heatmapgl\":[{\"colorbar\":{\"outlinewidth\":0,\"ticks\":\"\"},\"colorscale\":[[0.0,\"#0d0887\"],[0.1111111111111111,\"#46039f\"],[0.2222222222222222,\"#7201a8\"],[0.3333333333333333,\"#9c179e\"],[0.4444444444444444,\"#bd3786\"],[0.5555555555555556,\"#d8576b\"],[0.6666666666666666,\"#ed7953\"],[0.7777777777777778,\"#fb9f3a\"],[0.8888888888888888,\"#fdca26\"],[1.0,\"#f0f921\"]],\"type\":\"heatmapgl\"}],\"histogram\":[{\"marker\":{\"pattern\":{\"fillmode\":\"overlay\",\"size\":10,\"solidity\":0.2}},\"type\":\"histogram\"}],\"histogram2d\":[{\"colorbar\":{\"outlinewidth\":0,\"ticks\":\"\"},\"colorscale\":[[0.0,\"#0d0887\"],[0.1111111111111111,\"#46039f\"],[0.2222222222222222,\"#7201a8\"],[0.3333333333333333,\"#9c179e\"],[0.4444444444444444,\"#bd3786\"],[0.5555555555555556,\"#d8576b\"],[0.6666666666666666,\"#ed7953\"],[0.7777777777777778,\"#fb9f3a\"],[0.8888888888888888,\"#fdca26\"],[1.0,\"#f0f921\"]],\"type\":\"histogram2d\"}],\"histogram2dcontour\":[{\"colorbar\":{\"outlinewidth\":0,\"ticks\":\"\"},\"colorscale\":[[0.0,\"#0d0887\"],[0.1111111111111111,\"#46039f\"],[0.2222222222222222,\"#7201a8\"],[0.3333333333333333,\"#9c179e\"],[0.4444444444444444,\"#bd3786\"],[0.5555555555555556,\"#d8576b\"],[0.6666666666666666,\"#ed7953\"],[0.7777777777777778,\"#fb9f3a\"],[0.8888888888888888,\"#fdca26\"],[1.0,\"#f0f921\"]],\"type\":\"histogram2dcontour\"}],\"mesh3d\":[{\"colorbar\":{\"outlinewidth\":0,\"ticks\":\"\"},\"type\":\"mesh3d\"}],\"parcoords\":[{\"line\":{\"colorbar\":{\"outlinewidth\":0,\"ticks\":\"\"}},\"type\":\"parcoords\"}],\"pie\":[{\"automargin\":true,\"type\":\"pie\"}],\"scatter\":[{\"marker\":{\"colorbar\":{\"outlinewidth\":0,\"ticks\":\"\"}},\"type\":\"scatter\"}],\"scatter3d\":[{\"line\":{\"colorbar\":{\"outlinewidth\":0,\"ticks\":\"\"}},\"marker\":{\"colorbar\":{\"outlinewidth\":0,\"ticks\":\"\"}},\"type\":\"scatter3d\"}],\"scattercarpet\":[{\"marker\":{\"colorbar\":{\"outlinewidth\":0,\"ticks\":\"\"}},\"type\":\"scattercarpet\"}],\"scattergeo\":[{\"marker\":{\"colorbar\":{\"outlinewidth\":0,\"ticks\":\"\"}},\"type\":\"scattergeo\"}],\"scattergl\":[{\"marker\":{\"colorbar\":{\"outlinewidth\":0,\"ticks\":\"\"}},\"type\":\"scattergl\"}],\"scattermapbox\":[{\"marker\":{\"colorbar\":{\"outlinewidth\":0,\"ticks\":\"\"}},\"type\":\"scattermapbox\"}],\"scatterpolar\":[{\"marker\":{\"colorbar\":{\"outlinewidth\":0,\"ticks\":\"\"}},\"type\":\"scatterpolar\"}],\"scatterpolargl\":[{\"marker\":{\"colorbar\":{\"outlinewidth\":0,\"ticks\":\"\"}},\"type\":\"scatterpolargl\"}],\"scatterternary\":[{\"marker\":{\"colorbar\":{\"outlinewidth\":0,\"ticks\":\"\"}},\"type\":\"scatterternary\"}],\"surface\":[{\"colorbar\":{\"outlinewidth\":0,\"ticks\":\"\"},\"colorscale\":[[0.0,\"#0d0887\"],[0.1111111111111111,\"#46039f\"],[0.2222222222222222,\"#7201a8\"],[0.3333333333333333,\"#9c179e\"],[0.4444444444444444,\"#bd3786\"],[0.5555555555555556,\"#d8576b\"],[0.6666666666666666,\"#ed7953\"],[0.7777777777777778,\"#fb9f3a\"],[0.8888888888888888,\"#fdca26\"],[1.0,\"#f0f921\"]],\"type\":\"surface\"}],\"table\":[{\"cells\":{\"fill\":{\"color\":\"#EBF0F8\"},\"line\":{\"color\":\"white\"}},\"header\":{\"fill\":{\"color\":\"#C8D4E3\"},\"line\":{\"color\":\"white\"}},\"type\":\"table\"}]},\"layout\":{\"annotationdefaults\":{\"arrowcolor\":\"#2a3f5f\",\"arrowhead\":0,\"arrowwidth\":1},\"autotypenumbers\":\"strict\",\"coloraxis\":{\"colorbar\":{\"outlinewidth\":0,\"ticks\":\"\"}},\"colorscale\":{\"diverging\":[[0,\"#8e0152\"],[0.1,\"#c51b7d\"],[0.2,\"#de77ae\"],[0.3,\"#f1b6da\"],[0.4,\"#fde0ef\"],[0.5,\"#f7f7f7\"],[0.6,\"#e6f5d0\"],[0.7,\"#b8e186\"],[0.8,\"#7fbc41\"],[0.9,\"#4d9221\"],[1,\"#276419\"]],\"sequential\":[[0.0,\"#0d0887\"],[0.1111111111111111,\"#46039f\"],[0.2222222222222222,\"#7201a8\"],[0.3333333333333333,\"#9c179e\"],[0.4444444444444444,\"#bd3786\"],[0.5555555555555556,\"#d8576b\"],[0.6666666666666666,\"#ed7953\"],[0.7777777777777778,\"#fb9f3a\"],[0.8888888888888888,\"#fdca26\"],[1.0,\"#f0f921\"]],\"sequentialminus\":[[0.0,\"#0d0887\"],[0.1111111111111111,\"#46039f\"],[0.2222222222222222,\"#7201a8\"],[0.3333333333333333,\"#9c179e\"],[0.4444444444444444,\"#bd3786\"],[0.5555555555555556,\"#d8576b\"],[0.6666666666666666,\"#ed7953\"],[0.7777777777777778,\"#fb9f3a\"],[0.8888888888888888,\"#fdca26\"],[1.0,\"#f0f921\"]]},\"colorway\":[\"#636efa\",\"#EF553B\",\"#00cc96\",\"#ab63fa\",\"#FFA15A\",\"#19d3f3\",\"#FF6692\",\"#B6E880\",\"#FF97FF\",\"#FECB52\"],\"font\":{\"color\":\"#2a3f5f\"},\"geo\":{\"bgcolor\":\"white\",\"lakecolor\":\"white\",\"landcolor\":\"#E5ECF6\",\"showlakes\":true,\"showland\":true,\"subunitcolor\":\"white\"},\"hoverlabel\":{\"align\":\"left\"},\"hovermode\":\"closest\",\"mapbox\":{\"style\":\"light\"},\"paper_bgcolor\":\"white\",\"plot_bgcolor\":\"#E5ECF6\",\"polar\":{\"angularaxis\":{\"gridcolor\":\"white\",\"linecolor\":\"white\",\"ticks\":\"\"},\"bgcolor\":\"#E5ECF6\",\"radialaxis\":{\"gridcolor\":\"white\",\"linecolor\":\"white\",\"ticks\":\"\"}},\"scene\":{\"xaxis\":{\"backgroundcolor\":\"#E5ECF6\",\"gridcolor\":\"white\",\"gridwidth\":2,\"linecolor\":\"white\",\"showbackground\":true,\"ticks\":\"\",\"zerolinecolor\":\"white\"},\"yaxis\":{\"backgroundcolor\":\"#E5ECF6\",\"gridcolor\":\"white\",\"gridwidth\":2,\"linecolor\":\"white\",\"showbackground\":true,\"ticks\":\"\",\"zerolinecolor\":\"white\"},\"zaxis\":{\"backgroundcolor\":\"#E5ECF6\",\"gridcolor\":\"white\",\"gridwidth\":2,\"linecolor\":\"white\",\"showbackground\":true,\"ticks\":\"\",\"zerolinecolor\":\"white\"}},\"shapedefaults\":{\"line\":{\"color\":\"#2a3f5f\"}},\"ternary\":{\"aaxis\":{\"gridcolor\":\"white\",\"linecolor\":\"white\",\"ticks\":\"\"},\"baxis\":{\"gridcolor\":\"white\",\"linecolor\":\"white\",\"ticks\":\"\"},\"bgcolor\":\"#E5ECF6\",\"caxis\":{\"gridcolor\":\"white\",\"linecolor\":\"white\",\"ticks\":\"\"}},\"title\":{\"x\":0.05},\"xaxis\":{\"automargin\":true,\"gridcolor\":\"white\",\"linecolor\":\"white\",\"ticks\":\"\",\"title\":{\"standoff\":15},\"zerolinecolor\":\"white\",\"zerolinewidth\":2},\"yaxis\":{\"automargin\":true,\"gridcolor\":\"white\",\"linecolor\":\"white\",\"ticks\":\"\",\"title\":{\"standoff\":15},\"zerolinecolor\":\"white\",\"zerolinewidth\":2}}},\"legend\":{\"tracegroupgap\":0},\"title\":{\"text\":\"manufacturer count\"}},                        {\"responsive\": true}                    ).then(function(){\n",
       "                            \n",
       "var gd = document.getElementById('42ce0e7c-08e5-48bd-b07f-65a2b86d3435');\n",
       "var x = new MutationObserver(function (mutations, observer) {{\n",
       "        var display = window.getComputedStyle(gd).display;\n",
       "        if (!display || display === 'none') {{\n",
       "            console.log([gd, 'removed!']);\n",
       "            Plotly.purge(gd);\n",
       "            observer.disconnect();\n",
       "        }}\n",
       "}});\n",
       "\n",
       "// Listen for the removal of the full notebook cells\n",
       "var notebookContainer = gd.closest('#notebook-container');\n",
       "if (notebookContainer) {{\n",
       "    x.observe(notebookContainer, {childList: true});\n",
       "}}\n",
       "\n",
       "// Listen for the clearing of the current output cell\n",
       "var outputEl = gd.closest('.output');\n",
       "if (outputEl) {{\n",
       "    x.observe(outputEl, {childList: true});\n",
       "}}\n",
       "\n",
       "                        })                };                });            </script>        </div>"
      ]
     },
     "metadata": {},
     "output_type": "display_data"
    },
    {
     "name": "stdout",
     "output_type": "stream",
     "text": [
      "['Vestas', 'GE', 'Siemens', 'Enercon', 'Senvion', 'NEG Micron', 'Acciona Wind Power', 'Acciona', 'Nordex', 'Suzlon', 'Vensys', 'Gamesa', 'Windmatic', 'DeWind', 'Samsung Renewable Energy', 'Northwind/Turbowinds', 'EWT/LAgerwey/Bonus', 'Leitwind/pfleiderer/Tacke']\n"
     ]
    }
   ],
   "source": [
    "values=number_installed\n",
    "names=manufacturer_make\n",
    "fig =px.pie(df,values =values, names= names, title=\"manufacturer count\")\n",
    "fig.show()\n",
    "print(names)"
   ]
  },
  {
   "cell_type": "markdown",
   "id": "1a4a9f3c",
   "metadata": {},
   "source": [
    "# findings\n",
    "\n",
    "\n",
    "Bonus is the major market holder with 27.4% of market share f0llowed by Vestas 25.8%"
   ]
  },
  {
   "cell_type": "code",
   "execution_count": 143,
   "id": "d146429f",
   "metadata": {},
   "outputs": [
    {
     "data": {
      "text/html": [
       "<style  type=\"text/css\" >\n",
       "#T_2d6a1_row0_col0,#T_2d6a1_row1_col1,#T_2d6a1_row2_col2,#T_2d6a1_row3_col3,#T_2d6a1_row4_col4,#T_2d6a1_row5_col5,#T_2d6a1_row6_col6,#T_2d6a1_row7_col7{\n",
       "            background-color:  #b40426;\n",
       "            color:  #f1f1f1;\n",
       "        }#T_2d6a1_row0_col1{\n",
       "            background-color:  #90b2fe;\n",
       "            color:  #000000;\n",
       "        }#T_2d6a1_row0_col2{\n",
       "            background-color:  #7597f6;\n",
       "            color:  #000000;\n",
       "        }#T_2d6a1_row0_col3{\n",
       "            background-color:  #88abfd;\n",
       "            color:  #000000;\n",
       "        }#T_2d6a1_row0_col4{\n",
       "            background-color:  #bbd1f8;\n",
       "            color:  #000000;\n",
       "        }#T_2d6a1_row0_col5,#T_2d6a1_row1_col0{\n",
       "            background-color:  #b6cefa;\n",
       "            color:  #000000;\n",
       "        }#T_2d6a1_row0_col6{\n",
       "            background-color:  #89acfd;\n",
       "            color:  #000000;\n",
       "        }#T_2d6a1_row0_col7{\n",
       "            background-color:  #f39577;\n",
       "            color:  #000000;\n",
       "        }#T_2d6a1_row1_col2{\n",
       "            background-color:  #9dbdff;\n",
       "            color:  #000000;\n",
       "        }#T_2d6a1_row1_col3{\n",
       "            background-color:  #c1d4f4;\n",
       "            color:  #000000;\n",
       "        }#T_2d6a1_row1_col4{\n",
       "            background-color:  #d1dae9;\n",
       "            color:  #000000;\n",
       "        }#T_2d6a1_row1_col5{\n",
       "            background-color:  #cad8ef;\n",
       "            color:  #000000;\n",
       "        }#T_2d6a1_row1_col6{\n",
       "            background-color:  #afcafc;\n",
       "            color:  #000000;\n",
       "        }#T_2d6a1_row1_col7{\n",
       "            background-color:  #b2ccfb;\n",
       "            color:  #000000;\n",
       "        }#T_2d6a1_row2_col0{\n",
       "            background-color:  #799cf8;\n",
       "            color:  #000000;\n",
       "        }#T_2d6a1_row2_col1{\n",
       "            background-color:  #7699f6;\n",
       "            color:  #000000;\n",
       "        }#T_2d6a1_row2_col3,#T_2d6a1_row4_col5{\n",
       "            background-color:  #ed8366;\n",
       "            color:  #000000;\n",
       "        }#T_2d6a1_row2_col4{\n",
       "            background-color:  #f29274;\n",
       "            color:  #000000;\n",
       "        }#T_2d6a1_row2_col5{\n",
       "            background-color:  #f7a688;\n",
       "            color:  #000000;\n",
       "        }#T_2d6a1_row2_col6{\n",
       "            background-color:  #8db0fe;\n",
       "            color:  #000000;\n",
       "        }#T_2d6a1_row2_col7{\n",
       "            background-color:  #bad0f8;\n",
       "            color:  #000000;\n",
       "        }#T_2d6a1_row3_col0{\n",
       "            background-color:  #6687ed;\n",
       "            color:  #000000;\n",
       "        }#T_2d6a1_row3_col1{\n",
       "            background-color:  #80a3fa;\n",
       "            color:  #000000;\n",
       "        }#T_2d6a1_row3_col2{\n",
       "            background-color:  #f18f71;\n",
       "            color:  #000000;\n",
       "        }#T_2d6a1_row3_col4,#T_2d6a1_row4_col3{\n",
       "            background-color:  #ea7b60;\n",
       "            color:  #000000;\n",
       "        }#T_2d6a1_row3_col5{\n",
       "            background-color:  #e57058;\n",
       "            color:  #000000;\n",
       "        }#T_2d6a1_row3_col6,#T_2d6a1_row4_col6{\n",
       "            background-color:  #6788ee;\n",
       "            color:  #000000;\n",
       "        }#T_2d6a1_row3_col7{\n",
       "            background-color:  #a6c4fe;\n",
       "            color:  #000000;\n",
       "        }#T_2d6a1_row4_col0{\n",
       "            background-color:  #9fbfff;\n",
       "            color:  #000000;\n",
       "        }#T_2d6a1_row4_col1,#T_2d6a1_row5_col1{\n",
       "            background-color:  #98b9ff;\n",
       "            color:  #000000;\n",
       "        }#T_2d6a1_row4_col2{\n",
       "            background-color:  #f5a081;\n",
       "            color:  #000000;\n",
       "        }#T_2d6a1_row4_col7{\n",
       "            background-color:  #cfdaea;\n",
       "            color:  #000000;\n",
       "        }#T_2d6a1_row5_col0{\n",
       "            background-color:  #a5c3fe;\n",
       "            color:  #000000;\n",
       "        }#T_2d6a1_row5_col2{\n",
       "            background-color:  #f7b093;\n",
       "            color:  #000000;\n",
       "        }#T_2d6a1_row5_col3{\n",
       "            background-color:  #e46e56;\n",
       "            color:  #000000;\n",
       "        }#T_2d6a1_row5_col4{\n",
       "            background-color:  #ec7f63;\n",
       "            color:  #000000;\n",
       "        }#T_2d6a1_row5_col6{\n",
       "            background-color:  #7396f5;\n",
       "            color:  #000000;\n",
       "        }#T_2d6a1_row5_col7{\n",
       "            background-color:  #c5d6f2;\n",
       "            color:  #000000;\n",
       "        }#T_2d6a1_row6_col0,#T_2d6a1_row6_col1,#T_2d6a1_row6_col2,#T_2d6a1_row6_col3,#T_2d6a1_row6_col4,#T_2d6a1_row6_col5,#T_2d6a1_row6_col7,#T_2d6a1_row7_col6{\n",
       "            background-color:  #3b4cc0;\n",
       "            color:  #f1f1f1;\n",
       "        }#T_2d6a1_row7_col0{\n",
       "            background-color:  #f7b396;\n",
       "            color:  #000000;\n",
       "        }#T_2d6a1_row7_col1{\n",
       "            background-color:  #3d50c3;\n",
       "            color:  #f1f1f1;\n",
       "        }#T_2d6a1_row7_col2{\n",
       "            background-color:  #7093f3;\n",
       "            color:  #000000;\n",
       "        }#T_2d6a1_row7_col3{\n",
       "            background-color:  #7ea1fa;\n",
       "            color:  #000000;\n",
       "        }#T_2d6a1_row7_col4{\n",
       "            background-color:  #b3cdfb;\n",
       "            color:  #000000;\n",
       "        }#T_2d6a1_row7_col5{\n",
       "            background-color:  #9abbff;\n",
       "            color:  #000000;\n",
       "        }</style><table id=\"T_2d6a1_\" ><thead>    <tr>        <th class=\"blank level0\" ></th>        <th class=\"col_heading level0 col0\" >OBJECTID</th>        <th class=\"col_heading level0 col1\" >Total project capacity (MW)</th>        <th class=\"col_heading level0 col2\" >Turbine rated capacity (kW)</th>        <th class=\"col_heading level0 col3\" >Rotor diameter (m)</th>        <th class=\"col_heading level0 col4\" >Hub height (m)</th>        <th class=\"col_heading level0 col5\" >Commissioning date</th>        <th class=\"col_heading level0 col6\" >Latitude</th>        <th class=\"col_heading level0 col7\" >Longitude</th>    </tr></thead><tbody>\n",
       "                <tr>\n",
       "                        <th id=\"T_2d6a1_level0_row0\" class=\"row_heading level0 row0\" >OBJECTID</th>\n",
       "                        <td id=\"T_2d6a1_row0_col0\" class=\"data row0 col0\" >1.000000</td>\n",
       "                        <td id=\"T_2d6a1_row0_col1\" class=\"data row0 col1\" >0.292909</td>\n",
       "                        <td id=\"T_2d6a1_row0_col2\" class=\"data row0 col2\" >0.100017</td>\n",
       "                        <td id=\"T_2d6a1_row0_col3\" class=\"data row0 col3\" >0.035386</td>\n",
       "                        <td id=\"T_2d6a1_row0_col4\" class=\"data row0 col4\" >0.219674</td>\n",
       "                        <td id=\"T_2d6a1_row0_col5\" class=\"data row0 col5\" >0.238351</td>\n",
       "                        <td id=\"T_2d6a1_row0_col6\" class=\"data row0 col6\" >-0.118117</td>\n",
       "                        <td id=\"T_2d6a1_row0_col7\" class=\"data row0 col7\" >0.643776</td>\n",
       "            </tr>\n",
       "            <tr>\n",
       "                        <th id=\"T_2d6a1_level0_row1\" class=\"row_heading level0 row1\" >Total project capacity (MW)</th>\n",
       "                        <td id=\"T_2d6a1_row1_col0\" class=\"data row1 col0\" >0.292909</td>\n",
       "                        <td id=\"T_2d6a1_row1_col1\" class=\"data row1 col1\" >1.000000</td>\n",
       "                        <td id=\"T_2d6a1_row1_col2\" class=\"data row1 col2\" >0.221481</td>\n",
       "                        <td id=\"T_2d6a1_row1_col3\" class=\"data row1 col3\" >0.247333</td>\n",
       "                        <td id=\"T_2d6a1_row1_col4\" class=\"data row1 col4\" >0.312400</td>\n",
       "                        <td id=\"T_2d6a1_row1_col5\" class=\"data row1 col5\" >0.312331</td>\n",
       "                        <td id=\"T_2d6a1_row1_col6\" class=\"data row1 col6\" >0.042476</td>\n",
       "                        <td id=\"T_2d6a1_row1_col7\" class=\"data row1 col7\" >0.050905</td>\n",
       "            </tr>\n",
       "            <tr>\n",
       "                        <th id=\"T_2d6a1_level0_row2\" class=\"row_heading level0 row2\" >Turbine rated capacity (kW)</th>\n",
       "                        <td id=\"T_2d6a1_row2_col0\" class=\"data row2 col0\" >0.100017</td>\n",
       "                        <td id=\"T_2d6a1_row2_col1\" class=\"data row2 col1\" >0.221481</td>\n",
       "                        <td id=\"T_2d6a1_row2_col2\" class=\"data row2 col2\" >1.000000</td>\n",
       "                        <td id=\"T_2d6a1_row2_col3\" class=\"data row2 col3\" >0.750416</td>\n",
       "                        <td id=\"T_2d6a1_row2_col4\" class=\"data row2 col4\" >0.705761</td>\n",
       "                        <td id=\"T_2d6a1_row2_col5\" class=\"data row2 col5\" >0.658718</td>\n",
       "                        <td id=\"T_2d6a1_row2_col6\" class=\"data row2 col6\" >-0.102106</td>\n",
       "                        <td id=\"T_2d6a1_row2_col7\" class=\"data row2 col7\" >0.084780</td>\n",
       "            </tr>\n",
       "            <tr>\n",
       "                        <th id=\"T_2d6a1_level0_row3\" class=\"row_heading level0 row3\" >Rotor diameter (m)</th>\n",
       "                        <td id=\"T_2d6a1_row3_col0\" class=\"data row3 col0\" >0.035386</td>\n",
       "                        <td id=\"T_2d6a1_row3_col1\" class=\"data row3 col1\" >0.247333</td>\n",
       "                        <td id=\"T_2d6a1_row3_col2\" class=\"data row3 col2\" >0.750416</td>\n",
       "                        <td id=\"T_2d6a1_row3_col3\" class=\"data row3 col3\" >1.000000</td>\n",
       "                        <td id=\"T_2d6a1_row3_col4\" class=\"data row3 col4\" >0.772041</td>\n",
       "                        <td id=\"T_2d6a1_row3_col5\" class=\"data row3 col5\" >0.806995</td>\n",
       "                        <td id=\"T_2d6a1_row3_col6\" class=\"data row3 col6\" >-0.262277</td>\n",
       "                        <td id=\"T_2d6a1_row3_col7\" class=\"data row3 col7\" >0.003082</td>\n",
       "            </tr>\n",
       "            <tr>\n",
       "                        <th id=\"T_2d6a1_level0_row4\" class=\"row_heading level0 row4\" >Hub height (m)</th>\n",
       "                        <td id=\"T_2d6a1_row4_col0\" class=\"data row4 col0\" >0.219674</td>\n",
       "                        <td id=\"T_2d6a1_row4_col1\" class=\"data row4 col1\" >0.312400</td>\n",
       "                        <td id=\"T_2d6a1_row4_col2\" class=\"data row4 col2\" >0.705761</td>\n",
       "                        <td id=\"T_2d6a1_row4_col3\" class=\"data row4 col3\" >0.772041</td>\n",
       "                        <td id=\"T_2d6a1_row4_col4\" class=\"data row4 col4\" >1.000000</td>\n",
       "                        <td id=\"T_2d6a1_row4_col5\" class=\"data row4 col5\" >0.762655</td>\n",
       "                        <td id=\"T_2d6a1_row4_col6\" class=\"data row4 col6\" >-0.265800</td>\n",
       "                        <td id=\"T_2d6a1_row4_col7\" class=\"data row4 col7\" >0.191419</td>\n",
       "            </tr>\n",
       "            <tr>\n",
       "                        <th id=\"T_2d6a1_level0_row5\" class=\"row_heading level0 row5\" >Commissioning date</th>\n",
       "                        <td id=\"T_2d6a1_row5_col0\" class=\"data row5 col0\" >0.238351</td>\n",
       "                        <td id=\"T_2d6a1_row5_col1\" class=\"data row5 col1\" >0.312331</td>\n",
       "                        <td id=\"T_2d6a1_row5_col2\" class=\"data row5 col2\" >0.658718</td>\n",
       "                        <td id=\"T_2d6a1_row5_col3\" class=\"data row5 col3\" >0.806995</td>\n",
       "                        <td id=\"T_2d6a1_row5_col4\" class=\"data row5 col4\" >0.762655</td>\n",
       "                        <td id=\"T_2d6a1_row5_col5\" class=\"data row5 col5\" >1.000000</td>\n",
       "                        <td id=\"T_2d6a1_row5_col6\" class=\"data row5 col6\" >-0.209882</td>\n",
       "                        <td id=\"T_2d6a1_row5_col7\" class=\"data row5 col7\" >0.138319</td>\n",
       "            </tr>\n",
       "            <tr>\n",
       "                        <th id=\"T_2d6a1_level0_row6\" class=\"row_heading level0 row6\" >Latitude</th>\n",
       "                        <td id=\"T_2d6a1_row6_col0\" class=\"data row6 col0\" >-0.118117</td>\n",
       "                        <td id=\"T_2d6a1_row6_col1\" class=\"data row6 col1\" >0.042476</td>\n",
       "                        <td id=\"T_2d6a1_row6_col2\" class=\"data row6 col2\" >-0.102106</td>\n",
       "                        <td id=\"T_2d6a1_row6_col3\" class=\"data row6 col3\" >-0.262277</td>\n",
       "                        <td id=\"T_2d6a1_row6_col4\" class=\"data row6 col4\" >-0.265800</td>\n",
       "                        <td id=\"T_2d6a1_row6_col5\" class=\"data row6 col5\" >-0.209882</td>\n",
       "                        <td id=\"T_2d6a1_row6_col6\" class=\"data row6 col6\" >1.000000</td>\n",
       "                        <td id=\"T_2d6a1_row6_col7\" class=\"data row6 col7\" >-0.474531</td>\n",
       "            </tr>\n",
       "            <tr>\n",
       "                        <th id=\"T_2d6a1_level0_row7\" class=\"row_heading level0 row7\" >Longitude</th>\n",
       "                        <td id=\"T_2d6a1_row7_col0\" class=\"data row7 col0\" >0.643776</td>\n",
       "                        <td id=\"T_2d6a1_row7_col1\" class=\"data row7 col1\" >0.050905</td>\n",
       "                        <td id=\"T_2d6a1_row7_col2\" class=\"data row7 col2\" >0.084780</td>\n",
       "                        <td id=\"T_2d6a1_row7_col3\" class=\"data row7 col3\" >0.003082</td>\n",
       "                        <td id=\"T_2d6a1_row7_col4\" class=\"data row7 col4\" >0.191419</td>\n",
       "                        <td id=\"T_2d6a1_row7_col5\" class=\"data row7 col5\" >0.138319</td>\n",
       "                        <td id=\"T_2d6a1_row7_col6\" class=\"data row7 col6\" >-0.474531</td>\n",
       "                        <td id=\"T_2d6a1_row7_col7\" class=\"data row7 col7\" >1.000000</td>\n",
       "            </tr>\n",
       "    </tbody></table>"
      ],
      "text/plain": [
       "<pandas.io.formats.style.Styler at 0x22b2463eac0>"
      ]
     },
     "execution_count": 143,
     "metadata": {},
     "output_type": "execute_result"
    }
   ],
   "source": [
    "corr = df.corr()\n",
    "corr.style.background_gradient(cmap='coolwarm')"
   ]
  },
  {
   "cell_type": "code",
   "execution_count": 148,
   "id": "949b7904",
   "metadata": {},
   "outputs": [],
   "source": [
    "x = df.iloc[:,7].values\n",
    "y = df.iloc[:,8].values"
   ]
  },
  {
   "cell_type": "code",
   "execution_count": 149,
   "id": "1cc1d4a1",
   "metadata": {},
   "outputs": [
    {
     "data": {
      "image/png": "[encoded data removed]",
      "text/plain": [
       "<Figure size 432x288 with 1 Axes>"
      ]
     },
     "metadata": {
      "needs_background": "light"
     },
     "output_type": "display_data"
    }
   ],
   "source": [
    "plt.scatter(x, y)\n",
    "plt.xlabel('rotor diameter')\n",
    "plt.ylabel('hub height')\n",
    "plt.show()"
   ]
  },
  {
   "cell_type": "code",
   "execution_count": 150,
   "id": "cfa28dcf",
   "metadata": {},
   "outputs": [],
   "source": [
    "correlation = np.corrcoef(x,y)"
   ]
  },
  {
   "cell_type": "code",
   "execution_count": 151,
   "id": "b4ed2125",
   "metadata": {},
   "outputs": [
    {
     "name": "stdout",
     "output_type": "stream",
     "text": [
      "The correlation between x and y is : \n",
      "  [[1.         0.77204084]\n",
      " [0.77204084 1.        ]]\n"
     ]
    }
   ],
   "source": [
    "print(\"The correlation between x and y is : \\n \",correlation)"
   ]
  },
  {
   "cell_type": "markdown",
   "id": "f1a216b4",
   "metadata": {},
   "source": [
    " #findings\n",
    " \n",
    " \n",
    " \n",
    " \n",
    " we can see that the rotor diameter and hub height have high correlation of 0.772041"
   ]
  },
  {
   "cell_type": "code",
   "execution_count": 152,
   "id": "1a14e8c8",
   "metadata": {},
   "outputs": [
    {
     "data": {
      "text/plain": [
       "array([[150.,  23.],\n",
       "       [600.,  44.],\n",
       "       [600.,  44.],\n",
       "       ...,\n",
       "       [660.,  47.],\n",
       "       [150.,  23.],\n",
       "       [660.,  47.]])"
      ]
     },
     "execution_count": 152,
     "metadata": {},
     "output_type": "execute_result"
    }
   ],
   "source": [
    "X = pd.get_dummies(df.iloc[:,[6,7]]).values\n",
    "X"
   ]
  },
  {
   "cell_type": "code",
   "execution_count": 153,
   "id": "6a2ff1d7",
   "metadata": {},
   "outputs": [],
   "source": [
    "from sklearn.cluster import KMeans"
   ]
  },
  {
   "cell_type": "code",
   "execution_count": 154,
   "id": "3c597b04",
   "metadata": {},
   "outputs": [
    {
     "data": {
      "image/png": "[encoded data removed]",
      "text/plain": [
       "<Figure size 432x288 with 1 Axes>"
      ]
     },
     "metadata": {
      "needs_background": "light"
     },
     "output_type": "display_data"
    }
   ],
   "source": [
    "wcss = []\n",
    "\n",
    "for i in range(1,11):\n",
    "    cluster = KMeans(n_clusters=i, init='k-means++', random_state=42)\n",
    "    cluster.fit(X)\n",
    "    wcss.append(cluster.inertia_)\n",
    "    \n",
    "plt.plot(range(1,11), wcss)\n",
    "plt.title('The Elbow Method')\n",
    "plt.xlabel('Number of Clusters')\n",
    "plt.ylabel('WCSS')\n",
    "plt.show()"
   ]
  },
  {
   "cell_type": "markdown",
   "id": "96de6ec1",
   "metadata": {},
   "source": [
    " Findings \n",
    " \n",
    " \n",
    " based on the elbow method we can consider 4 clusters "
   ]
  },
  {
   "cell_type": "code",
   "execution_count": 155,
   "id": "ea1e12a6",
   "metadata": {},
   "outputs": [],
   "source": [
    "n_clusters = 4\n",
    "kmeans = KMeans(n_clusters=n_clusters, init='k-means++', random_state=42)\n",
    "y_kmeans = kmeans.fit_predict(X)"
   ]
  },
  {
   "cell_type": "code",
   "execution_count": 156,
   "id": "ce518880",
   "metadata": {},
   "outputs": [
    {
     "data": {
      "image/png": "[encoded data removed]",
      "text/plain": [
       "<Figure size 432x288 with 1 Axes>"
      ]
     },
     "metadata": {
      "needs_background": "light"
     },
     "output_type": "display_data"
    }
   ],
   "source": [
    "plt.scatter(X[:,0], X[:,1], c=y_kmeans, label=[f'Cluster {i}' for i in y_kmeans], s=20)\n",
    "plt.scatter(kmeans.cluster_centers_[:,0],\n",
    "           kmeans.cluster_centers_[:,1], s=150, c='red', label='Centroids')\n",
    "plt.title('turbine rated capacity vs router diameter')\n",
    "plt.xlabel('turbine rated capacity(KW)')\n",
    "plt.ylabel('Router diameter')\n",
    "plt.show()"
   ]
  },
  {
   "cell_type": "markdown",
   "id": "9ca7730c",
   "metadata": {},
   "source": [
    "# Now based on the router diameter we can see the 3 clusters are \n",
    " 1.  having a router diameter aroud 50 mts and there turbine rated capacity is between 0-900 kw\n",
    " 2. having a router diameter aroud 80 mts and there turbine rated capacity is between 1000-1800 kw\n",
    " 3. having a router diameter around 90 mts and there turbine rated capacity ranges between 1800-2600 kw\n",
    " 4. having a router diameter around 100 mts and there turbine rated capacity ranges between 2600-3600 kw"
   ]
  },
  {
   "cell_type": "code",
   "execution_count": 157,
   "id": "76aa94f4",
   "metadata": {},
   "outputs": [
    {
     "data": {
      "text/plain": [
       "array([[150.,  30.],\n",
       "       [600.,  40.],\n",
       "       [600.,  50.],\n",
       "       ...,\n",
       "       [660.,  50.],\n",
       "       [150.,  30.],\n",
       "       [660.,  37.]])"
      ]
     },
     "execution_count": 157,
     "metadata": {},
     "output_type": "execute_result"
    }
   ],
   "source": [
    "Y = pd.get_dummies(df.iloc[:,[6,8]]).values\n",
    "Y"
   ]
  },
  {
   "cell_type": "code",
   "execution_count": 158,
   "id": "3e612bf2",
   "metadata": {},
   "outputs": [
    {
     "data": {
      "image/png": "[encoded data removed]",
      "text/plain": [
       "<Figure size 432x288 with 1 Axes>"
      ]
     },
     "metadata": {
      "needs_background": "light"
     },
     "output_type": "display_data"
    }
   ],
   "source": [
    "wcss = []\n",
    "\n",
    "for i in range(1,11):\n",
    "    cluster = KMeans(n_clusters=i, init='k-means++', random_state=42)\n",
    "    cluster.fit(Y)\n",
    "    wcss.append(cluster.inertia_)\n",
    "    \n",
    "plt.plot(range(1,11), wcss)\n",
    "plt.title('The Elbow Method')\n",
    "plt.xlabel('Number of Clusters')\n",
    "plt.ylabel('WCSS')\n",
    "plt.show()"
   ]
  },
  {
   "cell_type": "code",
   "execution_count": 159,
   "id": "093de9e7",
   "metadata": {},
   "outputs": [],
   "source": [
    "n_clusters = 4\n",
    "kmeans = KMeans(n_clusters=n_clusters, init='k-means++', random_state=42)\n",
    "y_kmeans = kmeans.fit_predict(X)"
   ]
  },
  {
   "cell_type": "code",
   "execution_count": 160,
   "id": "58f4450f",
   "metadata": {},
   "outputs": [
    {
     "data": {
      "image/png": "[encoded data removed]",
      "text/plain": [
       "<Figure size 432x288 with 1 Axes>"
      ]
     },
     "metadata": {
      "needs_background": "light"
     },
     "output_type": "display_data"
    }
   ],
   "source": [
    "plt.scatter(Y[:,0], Y[:,1], c=y_kmeans, label=[f'Cluster {i}' for i in y_kmeans], s=20)\n",
    "plt.scatter(kmeans.cluster_centers_[:,0],\n",
    "           kmeans.cluster_centers_[:,1], s=150, c='red', label='Centroids')\n",
    "plt.title('turbine rated capacity vs total capacity')\n",
    "plt.xlabel('turbine rated capacity(kw)')\n",
    "plt.ylabel('hub heigth')\n",
    "plt.show()"
   ]
  },
  {
   "cell_type": "markdown",
   "id": "863f3a20",
   "metadata": {},
   "source": [
    "from the 4 clusters we can see that \n",
    "\n",
    "1.when the hub heigth is between 20-80 the turbine capacity varies between 0-1000Kw\n",
    "\n",
    "2.when the hub heigth is between 40-100 the turbine capacity varies between 1000-1800 kw\n",
    "\n",
    "3.When the hub heigth is between 50-100 the turbine capacity varies betweem 1800-2500 kw\n",
    "\n",
    "4.when the hub heigth is between 70-130 the turbine capacity varies between 2600-3700 kw"
   ]
  },
  {
   "cell_type": "code",
   "execution_count": 161,
   "id": "3b7b58ee",
   "metadata": {},
   "outputs": [
    {
     "data": {
      "text/plain": [
       "array([[150.  ,   0.9 ],\n",
       "       [600.  ,  44.  ],\n",
       "       [600.  ,   3.78],\n",
       "       ...,\n",
       "       [660.  ,  10.56],\n",
       "       [150.  ,   0.81],\n",
       "       [660.  ,   0.81]])"
      ]
     },
     "execution_count": 161,
     "metadata": {},
     "output_type": "execute_result"
    }
   ],
   "source": [
    "x1= pd.get_dummies(df.iloc[:,[6,3]]).values\n",
    "x1"
   ]
  },
  {
   "cell_type": "code",
   "execution_count": 162,
   "id": "afe57727",
   "metadata": {},
   "outputs": [
    {
     "data": {
      "image/png": "[encoded data removed]",
      "text/plain": [
       "<Figure size 432x288 with 1 Axes>"
      ]
     },
     "metadata": {
      "needs_background": "light"
     },
     "output_type": "display_data"
    }
   ],
   "source": [
    "wcss = []\n",
    "\n",
    "for i in range(1,11):\n",
    "    cluster = KMeans(n_clusters=i, init='k-means++', random_state=42)\n",
    "    cluster.fit(x1)\n",
    "    wcss.append(cluster.inertia_)\n",
    "    \n",
    "plt.plot(range(1,11), wcss)\n",
    "plt.title('The Elbow Method')\n",
    "plt.xlabel('Number of Clusters')\n",
    "plt.ylabel('WCSS')\n",
    "plt.show()"
   ]
  },
  {
   "cell_type": "code",
   "execution_count": 163,
   "id": "c4ce3097",
   "metadata": {},
   "outputs": [
    {
     "data": {
      "image/png": "[encoded data removed]",
      "text/plain": [
       "<Figure size 432x288 with 1 Axes>"
      ]
     },
     "metadata": {
      "needs_background": "light"
     },
     "output_type": "display_data"
    }
   ],
   "source": [
    "plt.scatter(x1[:,0], x1[:,1], c=y_kmeans, label=[f'Cluster {i}' for i in y_kmeans], s=20)\n",
    "plt.scatter(kmeans.cluster_centers_[:,0],\n",
    "           kmeans.cluster_centers_[:,1], s=150, c='red', label='Centroids')\n",
    "plt.title('turbine rated capacity vs router diameter')\n",
    "plt.xlabel('turbine rated capacity(KW)')\n",
    "plt.ylabel('total project capacity (MW)')\n",
    "plt.show()"
   ]
  },
  {
   "cell_type": "markdown",
   "id": "bd870d1a",
   "metadata": {},
   "source": [
    "we can see that we have 4 clusters which are \n",
    "1. The turbines having capacity ranging from 500-1000kw and having a total capabilty to generate 0-90 mw \n",
    "2. The turbines having capacity ranging from 1200-2000 kw and having a total capabilty to generate 0-230 mw \n",
    "3. The turbines having capacity ranging from 2000-250000kw and having a total capabilty to generate 0-350 mw \n",
    "4. The turbines having capacity ranging from 2600-3500kw and having a total capabilty to generate 0-300mw "
   ]
  },
  {
   "cell_type": "code",
   "execution_count": 164,
   "id": "76660e9e",
   "metadata": {},
   "outputs": [],
   "source": [
    "#linear regression \n",
    "\n",
    "x= pd.get_dummies(df.iloc[:,[7,8]]).values\n",
    "x\n",
    "y = df.iloc[:,6].values"
   ]
  },
  {
   "cell_type": "code",
   "execution_count": 165,
   "id": "35e9074a",
   "metadata": {},
   "outputs": [
    {
     "data": {
      "text/plain": [
       "array([150, 600, 600, ..., 660, 150, 660])"
      ]
     },
     "execution_count": 165,
     "metadata": {},
     "output_type": "execute_result"
    }
   ],
   "source": [
    "y"
   ]
  },
  {
   "cell_type": "code",
   "execution_count": 166,
   "id": "2126cdee",
   "metadata": {},
   "outputs": [],
   "source": [
    "from sklearn.model_selection import train_test_split\n",
    "x_train, x_test, y_train, y_test = train_test_split(x, y, test_size = 0.20, random_state = 0)"
   ]
  },
  {
   "cell_type": "code",
   "execution_count": 167,
   "id": "71b00eb6",
   "metadata": {},
   "outputs": [],
   "source": [
    "from sklearn.datasets import make_classification\n",
    "from sklearn.model_selection import train_test_split\n",
    "from sklearn.metrics import accuracy_score\n",
    "from sklearn.linear_model import LinearRegression\n",
    "from sklearn.metrics import mean_squared_error, r2_score\n",
    "import statsmodels.api as sm"
   ]
  },
  {
   "cell_type": "code",
   "execution_count": 168,
   "id": "ebb9b9f7",
   "metadata": {},
   "outputs": [
    {
     "data": {
      "text/plain": [
       "LinearRegression()"
      ]
     },
     "execution_count": 168,
     "metadata": {},
     "output_type": "execute_result"
    }
   ],
   "source": [
    "model = LinearRegression()\n",
    "model.fit(x, y)"
   ]
  },
  {
   "cell_type": "code",
   "execution_count": 169,
   "id": "0592e392",
   "metadata": {},
   "outputs": [
    {
     "name": "stdout",
     "output_type": "stream",
     "text": [
      "[[23. 30.]\n",
      " [44. 40.]\n",
      " [44. 50.]\n",
      " ...\n",
      " [47. 50.]\n",
      " [23. 30.]\n",
      " [47. 37.]]\n"
     ]
    }
   ],
   "source": [
    "print(x)"
   ]
  },
  {
   "cell_type": "code",
   "execution_count": 170,
   "id": "15a2f883",
   "metadata": {},
   "outputs": [],
   "source": [
    "y_predicted = model.predict(x)"
   ]
  },
  {
   "cell_type": "code",
   "execution_count": 171,
   "id": "3758f959",
   "metadata": {},
   "outputs": [],
   "source": [
    "mse=mean_squared_error(y,y_predicted)"
   ]
  },
  {
   "cell_type": "code",
   "execution_count": 172,
   "id": "e126e7b5",
   "metadata": {},
   "outputs": [],
   "source": [
    "rmse = np.sqrt(mean_squared_error(y, y_predicted))\n",
    "r2 = r2_score(y, y_predicted)"
   ]
  },
  {
   "cell_type": "code",
   "execution_count": 173,
   "id": "cc932efa",
   "metadata": {},
   "outputs": [
    {
     "name": "stdout",
     "output_type": "stream",
     "text": [
      "Intercept: -743.3828334551213\n",
      "MSE: 142101.74665556225\n",
      "Root mean squared error:  376.9638532479769\n",
      "R2 score:  0.6026818897568924\n"
     ]
    }
   ],
   "source": [
    "print('Intercept:',model.intercept_)\n",
    "print('MSE:',mse)\n",
    "print('Root mean squared error: ', rmse)\n",
    "print('R2 score: ', r2)"
   ]
  },
  {
   "cell_type": "markdown",
   "id": "94322806",
   "metadata": {},
   "source": [
    "#findings \n",
    "\n",
    "\n",
    "based on the R2 score we can say that the dependent variable turbine rated capacity is not completly effected by the\n",
    "height and router diameter"
   ]
  }
 ],
 "metadata": {
  "kernelspec": {
   "display_name": "Python 3",
   "language": "python",
   "name": "python3"
  },
  "language_info": {
   "codemirror_mode": {
    "name": "ipython",
    "version": 3
   },
   "file_extension": ".py",
   "mimetype": "text/x-python",
   "name": "python",
   "nbconvert_exporter": "python",
   "pygments_lexer": "ipython3",
   "version": "3.8.8"
  }
 },
 "nbformat": 4,
 "nbformat_minor": 5
}
